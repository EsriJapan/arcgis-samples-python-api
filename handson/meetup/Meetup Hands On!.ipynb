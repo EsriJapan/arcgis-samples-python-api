{
 "cells": [
  {
   "cell_type": "markdown",
   "metadata": {},
   "source": [
    "# 東京都23区ごとの放置自転車数を解析しよう"
   ]
  },
  {
   "cell_type": "markdown",
   "metadata": {},
   "source": [
    "### このノートブックでやること\n",
    "\n",
    "* ArcGIS Online へ ArcGIS for Developers のアカウントを使ってログインする\n",
    "* Jupyter Notebook へ地図を表示させる\n",
    "* フィーチャ レイヤーの作成①：CSV の中身を pandas で確認しよう！\n",
    "* フィーチャ レイヤーの作成②：CSV からフィーチャサービスを公開しよう！※フィーチャ サービスは作成したらどんなもんか見てみよう\n",
    "* フィーチャ レイヤーの作成③：公開したフィーチャサービスを Jupyter Notebook の地図に追加しよう！\n",
    "* 解析：東京都 23 区ごとの放置自転車数を解析する\n",
    "* グラフ表示\n",
    "* Web マップの形で出力しよう\n"
   ]
  },
  {
   "cell_type": "markdown",
   "metadata": {},
   "source": [
    "### ArcGIS for Develoersのアカウントを使ってログインする"
   ]
  },
  {
   "cell_type": "code",
   "execution_count": null,
   "metadata": {
    "collapsed": true
   },
   "outputs": [],
   "source": [
    "# ArcGIS for Developers ログイン情報\n",
    "develoersUser = ''\n",
    "develoersPass = ''"
   ]
  },
  {
   "cell_type": "code",
   "execution_count": null,
   "metadata": {},
   "outputs": [],
   "source": [
    "from arcgis.gis import GIS\n",
    "gis = GIS(\"http://www.arcgis.com/\",develoersUser,develoersPass)\n",
    "user = gis.users.get(develoersUser)\n",
    "user"
   ]
  },
  {
   "cell_type": "code",
   "execution_count": null,
   "metadata": {},
   "outputs": [],
   "source": [
    "# ArcGIS for Developers で使えるクレジット数（おまけ）\n",
    "beforeCredit = gis.admin.credits.credits\n",
    "beforeCredit"
   ]
  },
  {
   "cell_type": "markdown",
   "metadata": {},
   "source": [
    "### Jupyter Notebookへ地図を表示させる"
   ]
  },
  {
   "cell_type": "code",
   "execution_count": null,
   "metadata": {},
   "outputs": [],
   "source": [
    "geodevmap = gis.map(\"東京都\", zoomlevel = 12)\n",
    "geodevmap"
   ]
  },
  {
   "cell_type": "markdown",
   "metadata": {},
   "source": [
    "### フィーチャ レイヤーの作成①：CSVの中身をpandasで確認しよう！\n",
    "手順\n",
    "* (データ準備)\n",
    "* データ読み込み\n",
    "* 中身の確認"
   ]
  },
  {
   "cell_type": "markdown",
   "metadata": {},
   "source": [
    "##### データ取得"
   ]
  },
  {
   "cell_type": "markdown",
   "metadata": {},
   "source": [
    "使用する CSV ファイルを入手します。\n",
    "githubからcloneまたはzipでノートブックをダウンロードすると次のフォルダに格納しています。\n",
    "\n",
    "C:<任意のフォルダ>\\arcgis-samples-python-api-master\\arcgis-samples-python-api-master>tree /f\n",
    "-  handson\\meetup\n",
    "         │  Meetup Hands On!.ipynb\n",
    "         │\n",
    "         └─data\n",
    "             illegal_parking_2015.csv\n",
    "\n",
    "ダウンロード元\n",
    "\n",
    "[東京都内の放置自転車（2015）](https://hub.arcgis.com/datasets/ejopendataportal::%E6%9D%B1%E4%BA%AC%E9%83%BD%E5%86%85%E3%81%AE%E6%94%BE%E7%BD%AE%E8%87%AA%E8%BB%A2%E8%BB%8A%EF%BC%882015%EF%BC%89)\n",
    "\n",
    "ページ右側の「ダウンロード」ボタンから[スプレッドシート]を選択して任意の場所に保存します。\n",
    "\n",
    "ファイル名は次でお願いします\n",
    "* illegal_parking_2015.csv\n"
   ]
  },
  {
   "cell_type": "markdown",
   "metadata": {},
   "source": [
    "##### 中身の確認"
   ]
  },
  {
   "cell_type": "code",
   "execution_count": null,
   "metadata": {},
   "outputs": [],
   "source": [
    "# csvファイルの読み込み\n",
    "illegal_parking_csv = 'data/illegal_parking_2015.csv'\n",
    "illegal_parking_csv"
   ]
  },
  {
   "cell_type": "code",
   "execution_count": null,
   "metadata": {},
   "outputs": [],
   "source": [
    "import pandas as pd\n",
    "from IPython.display import display\n",
    "dataframe = pd.read_csv(illegal_parking_csv)\n",
    "display(dataframe)"
   ]
  },
  {
   "cell_type": "markdown",
   "metadata": {},
   "source": [
    "### フィーチャ レイヤーの作成②：CSVからフィーチャサービスを公開しよう！"
   ]
  },
  {
   "cell_type": "code",
   "execution_count": null,
   "metadata": {
    "collapsed": true
   },
   "outputs": [],
   "source": [
    "# CSV ファイルを ArcGIS Online へアップロード\n",
    "illegal_parking_bicycles = gis.content.add({},illegal_parking_csv)"
   ]
  },
  {
   "cell_type": "code",
   "execution_count": null,
   "metadata": {},
   "outputs": [],
   "source": [
    "# アップロードした CSV ファイルもとにフィーチャ レイヤーを作成・公開する\n",
    "illegal_parking_bicycles_layer = illegal_parking_bicycles.publish()\n",
    "illegal_parking_bicycles_layer\n",
    "# ArcGIS Online へログインしてアイテムを確認してみましょう。"
   ]
  },
  {
   "cell_type": "markdown",
   "metadata": {},
   "source": [
    "### フィーチャ レイヤーの作成③：公開したフィーチャサービスを Jupyter Notebook の地図に追加しよう！"
   ]
  },
  {
   "cell_type": "code",
   "execution_count": null,
   "metadata": {
    "collapsed": true
   },
   "outputs": [],
   "source": [
    "geodevmap.add_layer(illegal_parking_bicycles_layer)\n",
    "# このあと地図をみてみましょう！↑"
   ]
  },
  {
   "cell_type": "markdown",
   "metadata": {},
   "source": [
    "### 解析：東京都 23 区ごとの放置自転車数を解析する\n",
    "東京都のポリゴン（図形データ）を使って、区ごとに次のことを解析して求めます。\n",
    "* ポリゴン内のポイントの数\n",
    "* ポリゴン内のそれぞれのポイントが持つ属性情報で「放置自転車数」を合算する\n",
    "\n",
    "手順\n",
    "* 東京都のポリゴンデータを呼び出す\n",
    "* ArcGIS Online のエリア集計の解析を実行する\n"
   ]
  },
  {
   "cell_type": "markdown",
   "metadata": {},
   "source": [
    "##### 東京都のポリゴンデータを呼び出す"
   ]
  },
  {
   "cell_type": "code",
   "execution_count": null,
   "metadata": {},
   "outputs": [],
   "source": [
    "# 目的データの検索\n",
    "flayer_search_result = gis.content.search(\"title:境界線表示用 AND owner:Chikako_OD\",\"Feature Layer\", outside_org=True)\n",
    "flayer_search_result\n",
    "\n",
    "# cf :ArcGIS Opendata \n",
    "# http://hub.arcgis.com/datasets/ejopendataportal::%E5%B9%B3%E6%88%90-24-%E5%B9%B4%E7%B5%8C%E6%B8%88%E3%82%BB%E3%83%B3%E3%82%B5%E3%82%B9-%E6%B4%BB%E5%8B%95%E8%AA%BF%E6%9F%BB%EF%BC%88%E6%9D%B1%E4%BA%AC%E9%83%BD-23-%E5%8C%BA%E3%80%81%E5%A2%83%E7%95%8C%E7%B7%9A%E8%A1%A8%E7%A4%BA%E7%94%A8%EF%BC%89"
   ]
  },
  {
   "cell_type": "code",
   "execution_count": null,
   "metadata": {
    "collapsed": true
   },
   "outputs": [],
   "source": [
    "# 東京都のポリゴンレイヤーを表示している地図に重ねる\n",
    "geodevmap.add_layer(flayer_search_result[0])\n",
    "# このあと地図をみてみましょう！↑"
   ]
  },
  {
   "cell_type": "markdown",
   "metadata": {},
   "source": [
    "##### ArcGIS Online のエリア集計の解析を実行する"
   ]
  },
  {
   "cell_type": "code",
   "execution_count": null,
   "metadata": {},
   "outputs": [],
   "source": [
    "from arcgis.features import summarize_data\n",
    "summarize_layer = summarize_data.summarize_within(flayer_search_result[0],\n",
    "                                illegal_parking_bicycles_layer,\n",
    "                                sum_shape=True,\n",
    "                                summary_fields=[\"放置台数_自転車 SUM\"],\n",
    "                                output_name='東京都エリア集計_2015',\n",
    "                                gis=gis)\n",
    "summarize_layer"
   ]
  },
  {
   "cell_type": "code",
   "execution_count": null,
   "metadata": {
    "collapsed": true
   },
   "outputs": [],
   "source": [
    "# 解析結果を地図へ表示する\n",
    "geodevmap.add_layer(summarize_layer)\n",
    "# このあと地図をみてみましょう！↑"
   ]
  },
  {
   "cell_type": "markdown",
   "metadata": {},
   "source": [
    "### グラフ表示\n",
    "エリア集計解析結果を見てみよう"
   ]
  },
  {
   "cell_type": "code",
   "execution_count": null,
   "metadata": {
    "collapsed": true
   },
   "outputs": [],
   "source": [
    "import requests\n",
    "import io\n",
    "import pandas\n",
    "from IPython.display import display\n",
    "import json"
   ]
  },
  {
   "cell_type": "code",
   "execution_count": null,
   "metadata": {
    "scrolled": true
   },
   "outputs": [],
   "source": [
    "layer = summarize_layer.layers[0]\n",
    "layer.query().df"
   ]
  },
  {
   "cell_type": "markdown",
   "metadata": {},
   "source": [
    "#### 必要な要素だけで見てみよう"
   ]
  },
  {
   "cell_type": "code",
   "execution_count": null,
   "metadata": {},
   "outputs": [],
   "source": [
    "illegal_parking_bicycles_df = layer.query().df\n",
    "# 3つの要素だけで表示\n",
    "filtered_df = illegal_parking_bicycles_df[['CSS_NAME', 'SUM_放置台数_自転車','Point_Count']]\n",
    "# 要素でソートして表示\n",
    "sorted_df = filtered_df.sort_values(by='SUM_放置台数_自転車',ascending=False)\n",
    "sorted_df"
   ]
  },
  {
   "cell_type": "code",
   "execution_count": null,
   "metadata": {
    "scrolled": false
   },
   "outputs": [],
   "source": [
    "import matplotlib.pyplot as plt\n",
    "from matplotlib.font_manager import FontProperties\n",
    "# matplotlibはデフォルトで日本語フォントをもっていないそうなので、豆腐（文字化け）の場合はフォントを指定します。\n",
    "fp = FontProperties(fname=r'data/ipaexg.ttf', size=11)\n",
    "# fp = FontProperties(fname=r'D:\\\\ProgramFiles\\\\Fonts\\\\ipaexg.ttf', size=11)\n",
    "# グラフの設定\n",
    "graphdata = sorted_df.plot(x='CSS_NAME', y='SUM_放置台数_自転車', kind='bar', figsize=(10,10))\n",
    "graphdata.set_xticklabels(sorted_df['CSS_NAME'], fontproperties=fp)\n",
    "graphdata.set_xlabel('CSS_NAME', fontproperties=fp)\n",
    "plt.show()"
   ]
  },
  {
   "cell_type": "markdown",
   "metadata": {},
   "source": [
    "### Web マップ作成"
   ]
  },
  {
   "cell_type": "code",
   "execution_count": null,
   "metadata": {
    "collapsed": true
   },
   "outputs": [],
   "source": [
    "import arcgis\n",
    "from arcgis.gis import GIS\n",
    "from arcgis.mapping import WebMap\n",
    "\n",
    "web_map_properties = {'title':'MeetupHandsOn228',\n",
    "                     'snippet':'GeoDev Meetup ハンズオンで作成した Web マップ',\n",
    "                     'tags':'geodev_jp'}"
   ]
  },
  {
   "cell_type": "code",
   "execution_count": null,
   "metadata": {},
   "outputs": [],
   "source": [
    "web_map_item = geodevmap.save(item_properties=web_map_properties)\n",
    "web_map_item"
   ]
  },
  {
   "cell_type": "code",
   "execution_count": null,
   "metadata": {},
   "outputs": [],
   "source": [
    "# 指定のURLを別ブラウザで表示する\n",
    "import webbrowser\n",
    "url = \"http://www.arcgis.com/home/webmap/viewer.html?webmap=\" + web_map_item.itemid\n",
    "webbrowser.open(url)"
   ]
  },
  {
   "cell_type": "code",
   "execution_count": null,
   "metadata": {
    "collapsed": true
   },
   "outputs": [],
   "source": []
  }
 ],
 "metadata": {
  "kernelspec": {
   "display_name": "Python 3",
   "language": "python",
   "name": "python3"
  },
  "language_info": {
   "codemirror_mode": {
    "name": "ipython",
    "version": 3
   },
   "file_extension": ".py",
   "mimetype": "text/x-python",
   "name": "python",
   "nbconvert_exporter": "python",
   "pygments_lexer": "ipython3",
   "version": "3.6.4"
  }
 },
 "nbformat": 4,
 "nbformat_minor": 2
}
