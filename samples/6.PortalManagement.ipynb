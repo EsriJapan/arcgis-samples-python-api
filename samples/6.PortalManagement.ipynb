{
 "cells": [
  {
   "cell_type": "markdown",
   "metadata": {},
   "source": [
    "# ポータル管理タスクの一括処理"
   ]
  },
  {
   "cell_type": "markdown",
   "metadata": {},
   "source": [
    "* 使用環境\n",
    "    * ArcGIS API for Python 1.5.3\n",
    "    * Python 3.6.8\n",
    "    * Jupyter Notebook"
   ]
  },
  {
   "cell_type": "markdown",
   "metadata": {},
   "source": [
    "### 新規ユーザーを一括で作成"
   ]
  },
  {
   "cell_type": "markdown",
   "metadata": {},
   "source": [
    "#### モジュールをインポートして管理者としてログイン"
   ]
  },
  {
   "cell_type": "code",
   "execution_count": 1,
   "metadata": {},
   "outputs": [],
   "source": [
    "# 必要なモジュールをインポート\n",
    "\n",
    "from arcgis.gis import *"
   ]
  },
  {
   "cell_type": "code",
   "execution_count": 2,
   "metadata": {
    "scrolled": true
   },
   "outputs": [
    {
     "name": "stdout",
     "output_type": "stream",
     "text": [
      "Enter password: ········\n",
      "nakamura_dev_orgとしてログインしました。\n"
     ]
    }
   ],
   "source": [
    "# 管理者としてログイン\n",
    "user_name = \"管理者のユーザーネーム\"\n",
    "my_gis = GIS(\"ポータルのURL\", username = user_name)\n",
    "print(str(my_gis.properties.user.username) + \"としてログインしました。\")"
   ]
  },
  {
   "cell_type": "markdown",
   "metadata": {},
   "source": [
    "#### 新規ユーザーのアカウントを作成する"
   ]
  },
  {
   "cell_type": "code",
   "execution_count": 3,
   "metadata": {
    "scrolled": false
   },
   "outputs": [
    {
     "data": {
      "text/plain": [
       "['esrij_dev1', 'esrij_dev2', 'esrij_dev3']"
      ]
     },
     "execution_count": 3,
     "metadata": {},
     "output_type": "execute_result"
    }
   ],
   "source": [
    "# 新規作成するアカウントのユーザーネームのリスト\n",
    "new_viewers = [\"esrij_dev1\", \"esrij_dev2\", \"esrij_dev3\"]\n",
    "new_viewers"
   ]
  },
  {
   "cell_type": "code",
   "execution_count": 4,
   "metadata": {},
   "outputs": [],
   "source": [
    "# UserManager.create() メソッドを for 文で繰り返し、ユーザーを作成する\n",
    "# UserManager クラスは arcgis.gis クラスのヘルパークラスです。arcgis.gis.users で利用することができます。\n",
    "\n",
    "for viewer in new_viewers:\n",
    "    my_gis.users.create(\n",
    "        username = viewer, password = viewer + '_test_pass',\n",
    "        firstname = viewer.split(\"_\")[0], lastname = viewer.split(\"_\")[1],\n",
    "        email = viewer + \"@esrij.com\", role = \"viewer\", user_type = \"viewer\"\n",
    "    )"
   ]
  },
  {
   "cell_type": "markdown",
   "metadata": {},
   "source": [
    "---"
   ]
  },
  {
   "cell_type": "markdown",
   "metadata": {},
   "source": [
    "### アイテム所有者の変更"
   ]
  },
  {
   "cell_type": "code",
   "execution_count": 5,
   "metadata": {
    "scrolled": true
   },
   "outputs": [
    {
     "data": {
      "text/html": [
       "<div class=\"9item_container\" style=\"height: auto; overflow: hidden; border: 1px solid #cfcfcf; border-radius: 2px; background: #f6fafa; line-height: 1.21429em; padding: 10px;\">\n",
       "                    <div class=\"item_left\" style=\"width: 210px; float: left;\">\n",
       "                       <a href='https://nakamura-dev-org.maps.arcgis.com/home/user.html?user=48f2ce49bd2843c481dab332be69b500' target='_blank'>\n",
       "                        <img src='https://nakamura-dev-org.maps.arcgis.com/home/js/arcgisonline/css/images/no-user-thumb.jpg' class=\"itemThumbnail\">\n",
       "                       </a>\n",
       "                    </div>\n",
       "\n",
       "                    <div class=\"item_right\" style=\"float: none; width: auto; overflow: hidden;\">\n",
       "                        <a href='https://nakamura-dev-org.maps.arcgis.com/home/user.html?user=48f2ce49bd2843c481dab332be69b500' target='_blank'><b>ads_enterprise dev1</b>\n",
       "                        </a>\n",
       "                        <br/><br/><b>Bio</b>: None\n",
       "                        <br/><b>First Name</b>: dev1\n",
       "                        <br/><b>Last Name</b>: ads_enterprise\n",
       "                        <br/><b>Username</b>: ads_enterprise_dev1\n",
       "                        <br/><b>Joined</b>: March 08, 2019\n",
       "\n",
       "                    </div>\n",
       "                </div>\n",
       "                "
      ],
      "text/plain": [
       "<User username:ads_enterprise_dev1>"
      ]
     },
     "execution_count": 5,
     "metadata": {},
     "output_type": "execute_result"
    }
   ],
   "source": [
    "# アイテムの現所有者を検索\n",
    "current_owner = my_gis.users.search(\"ads_enterprise_dev1\")[0]\n",
    "current_owner"
   ]
  },
  {
   "cell_type": "code",
   "execution_count": 6,
   "metadata": {},
   "outputs": [
    {
     "data": {
      "text/plain": [
       "[<Item title:\"静岡市 避難所一覧「避難所」 - コピー\" type:Feature Layer Collection owner:ads_enterprise_dev1>,\n",
       " <Item title:\"静岡市 避難所一覧 「避難所（乳幼児優先）」 - コピー\" type:Feature Layer Collection owner:ads_enterprise_dev1>,\n",
       " <Item title:\"静岡市 津波避難ビル一覧（静岡市地域防災計画（資料編4-10））　「津波避難場所」 - コピー\" type:Feature Layer Collection owner:ads_enterprise_dev1>,\n",
       " <Item title:\"静岡市 AED配置状況（公共施設） - コピー\" type:Feature Layer Collection owner:ads_enterprise_dev1>,\n",
       " <Item title:\"静岡市 津波避難ビル一覧（静岡市地域防災計画（資料編4-10））　「津波避難ビル一覧」 - コピー\" type:Feature Layer Collection owner:ads_enterprise_dev1>,\n",
       " <Item title:\"静岡市 救護病院一覧 - コピー\" type:Feature Layer Collection owner:ads_enterprise_dev1>]"
      ]
     },
     "execution_count": 6,
     "metadata": {},
     "output_type": "execute_result"
    }
   ],
   "source": [
    "# ルートフォルダ内のアイテムの確認\n",
    "current_owner.items()"
   ]
  },
  {
   "cell_type": "code",
   "execution_count": 7,
   "metadata": {},
   "outputs": [
    {
     "data": {
      "text/html": [
       "<div class=\"9item_container\" style=\"height: auto; overflow: hidden; border: 1px solid #cfcfcf; border-radius: 2px; background: #f6fafa; line-height: 1.21429em; padding: 10px;\">\n",
       "                    <div class=\"item_left\" style=\"width: 210px; float: left;\">\n",
       "                       <a href='https://nakamura-dev-org.maps.arcgis.com/home/user.html?user=69cea4c86e2e46a0a3423d34c020ce0d' target='_blank'>\n",
       "                        <img src='https://nakamura-dev-org.maps.arcgis.com/home/js/arcgisonline/css/images/no-user-thumb.jpg' class=\"itemThumbnail\">\n",
       "                       </a>\n",
       "                    </div>\n",
       "\n",
       "                    <div class=\"item_right\" style=\"float: none; width: auto; overflow: hidden;\">\n",
       "                        <a href='https://nakamura-dev-org.maps.arcgis.com/home/user.html?user=69cea4c86e2e46a0a3423d34c020ce0d' target='_blank'><b>Hiromu Nakamura</b>\n",
       "                        </a>\n",
       "                        <br/><br/><b>Bio</b>: None\n",
       "                        <br/><b>First Name</b>: Hiromu\n",
       "                        <br/><b>Last Name</b>: Nakamura\n",
       "                        <br/><b>Username</b>: nakamura_dev_org\n",
       "                        <br/><b>Joined</b>: February 04, 2019\n",
       "\n",
       "                    </div>\n",
       "                </div>\n",
       "                "
      ],
      "text/plain": [
       "<User username:nakamura_dev_org>"
      ]
     },
     "execution_count": 7,
     "metadata": {},
     "output_type": "execute_result"
    }
   ],
   "source": [
    "# アイテムの新たな所有者となるユーザーを検索\n",
    "target = my_gis.users.search(\"nakamura_dev_org\")[0]\n",
    "target"
   ]
  },
  {
   "cell_type": "code",
   "execution_count": 8,
   "metadata": {},
   "outputs": [
    {
     "data": {
      "text/plain": [
       "True"
      ]
     },
     "execution_count": 8,
     "metadata": {},
     "output_type": "execute_result"
    }
   ],
   "source": [
    "# 現所有者の所持する全てのアイテム、グループの所有権を新たな所有者へ移すと同時に、現所有者のアカウントを削除する\n",
    "current_owner.delete(reassign_to = target)\n",
    "\n",
    "# アカウントを削除せずにアイテムの所有者のみを変更するメソッドもあります\n",
    "# current_owner.reassign_to(target)"
   ]
  },
  {
   "cell_type": "code",
   "execution_count": 9,
   "metadata": {},
   "outputs": [
    {
     "data": {
      "text/plain": [
       "[<Item title:\"静岡市 避難所一覧「避難所」 - コピー\" type:Feature Layer Collection owner:nakamura_dev_org>,\n",
       " <Item title:\"静岡市 避難所一覧 「避難所（乳幼児優先）」 - コピー\" type:Feature Layer Collection owner:nakamura_dev_org>,\n",
       " <Item title:\"静岡市 津波避難ビル一覧（静岡市地域防災計画（資料編4-10））　「津波避難場所」 - コピー\" type:Feature Layer Collection owner:nakamura_dev_org>,\n",
       " <Item title:\"静岡市 AED配置状況（公共施設） - コピー\" type:Feature Layer Collection owner:nakamura_dev_org>,\n",
       " <Item title:\"静岡市 津波避難ビル一覧（静岡市地域防災計画（資料編4-10））　「津波避難ビル一覧」 - コピー\" type:Feature Layer Collection owner:nakamura_dev_org>,\n",
       " <Item title:\"静岡市 救護病院一覧 - コピー\" type:Feature Layer Collection owner:nakamura_dev_org>]"
      ]
     },
     "execution_count": 9,
     "metadata": {},
     "output_type": "execute_result"
    }
   ],
   "source": [
    "# アイテムの所有が移ったかを確認\n",
    "target.items(\"ads_enterprise_dev1_root\")"
   ]
  }
 ],
 "metadata": {
  "kernelspec": {
   "display_name": "Python 3",
   "language": "python",
   "name": "python3"
  },
  "language_info": {
   "codemirror_mode": {
    "name": "ipython",
    "version": 3
   },
   "file_extension": ".py",
   "mimetype": "text/x-python",
   "name": "python",
   "nbconvert_exporter": "python",
   "pygments_lexer": "ipython3",
   "version": "3.6.8"
  }
 },
 "nbformat": 4,
 "nbformat_minor": 2
}
