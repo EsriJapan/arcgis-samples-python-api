{
 "cells": [
  {
   "cell_type": "markdown",
   "metadata": {},
   "source": [
    "# ローカルにあるデータをフィーチャ レイヤーとして公開する\n",
    "ここでは次の3つをArcGIS Online へ公開します。\n",
    "* CSV\n",
    "* シェープ ファイル(*.shp)\n",
    "* ファイルジオデータベース(*.gdb)\n",
    "\n",
    "おまけ\n",
    "* PDFファイル(*.pdf)\n",
    "* Microsoft Wordファイル(*.docx)\n",
    "\n",
    "\n",
    "※これら2つは、ArcGIS Onlineに作成可能なフォルダに格納します。\n",
    "\n",
    "そのほか ArcGIS API for Python を使ってArcGIS Online へ公開できるファイルは[こちら](https://developers.arcgis.com/rest/users-groups-and-items/items-and-item-types.htm)\n",
    "\n",
    "※公開先\n",
    "ArcGIS Developersから作成した無償アカウント、または既にお持ちの組織サイトのアカウントの両方で実践できます。"
   ]
  },
  {
   "cell_type": "markdown",
   "metadata": {},
   "source": [
    "#### ユーザでログインする"
   ]
  },
  {
   "cell_type": "code",
   "execution_count": 1,
   "metadata": {
    "collapsed": true
   },
   "outputs": [],
   "source": [
    "# ArcGIS for Developers ログイン情報\n",
    "develoersUser = ''\n",
    "develoersPass = ''"
   ]
  },
  {
   "cell_type": "code",
   "execution_count": 2,
   "metadata": {},
   "outputs": [
    {
     "data": {
      "text/html": [
       "<div class=\"9item_container\" style=\"height: auto; overflow: hidden; border: 1px solid #cfcfcf; border-radius: 2px; background: #f6fafa; line-height: 1.21429em; padding: 10px;\">\n",
       "                    <div class=\"item_left\" style=\"width: 210px; float: left;\">\n",
       "                       <a href='http://wakanameeeko.maps.arcgis.com//home/user.html?user=wakanameeeko' target='_blank'>\n",
       "                        <img src='data:image/png;base64,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' width='200' height='133' class=\"itemThumbnail\">\n",
       "                       </a>\n",
       "                    </div>\n",
       "\n",
       "                    <div class=\"item_right\" style=\"float: none; width: auto; overflow: hidden;\">\n",
       "                        <a href='http://wakanameeeko.maps.arcgis.com//home/user.html?user=wakanameeeko' target='_blank'><b>wakana sato</b>\n",
       "                        </a>\n",
       "                        <br/><br/><b>Bio</b>: \n",
       "                        <br/><b>First Name</b>: wakana\n",
       "                        <br/><b>Last Name</b>: sato\n",
       "                        <br/><b>Username</b>: wakanameeeko\n",
       "                        <br/><b>Joined</b>: November 05, 2016\n",
       "\n",
       "                    </div>\n",
       "                </div>\n",
       "                "
      ],
      "text/plain": [
       "<User username:wakanameeeko>"
      ]
     },
     "execution_count": 2,
     "metadata": {},
     "output_type": "execute_result"
    }
   ],
   "source": [
    "from arcgis.gis import GIS\n",
    "\n",
    "gis = GIS(\"http://\"+ develoersUser +\".maps.arcgis.com/\",develoersUser,develoersPass)\n",
    "user = gis.users.get(develoersUser)\n",
    "user"
   ]
  },
  {
   "cell_type": "markdown",
   "metadata": {},
   "source": [
    "## CSVファイルを公開する\n",
    "※緯度経度またはXYなど位置情報が含まれることが条件です"
   ]
  },
  {
   "cell_type": "code",
   "execution_count": 3,
   "metadata": {
    "scrolled": false
   },
   "outputs": [
    {
     "data": {
      "text/html": [
       "<div>\n",
       "<style scoped>\n",
       "    .dataframe tbody tr th:only-of-type {\n",
       "        vertical-align: middle;\n",
       "    }\n",
       "\n",
       "    .dataframe tbody tr th {\n",
       "        vertical-align: top;\n",
       "    }\n",
       "\n",
       "    .dataframe thead th {\n",
       "        text-align: right;\n",
       "    }\n",
       "</style>\n",
       "<table border=\"1\" class=\"dataframe\">\n",
       "  <thead>\n",
       "    <tr style=\"text-align: right;\">\n",
       "      <th></th>\n",
       "      <th>X</th>\n",
       "      <th>Y</th>\n",
       "      <th>OBJECTID</th>\n",
       "      <th>id</th>\n",
       "      <th>公園名</th>\n",
       "      <th>駐車場名</th>\n",
       "      <th>親施設ID</th>\n",
       "      <th>親施設名称</th>\n",
       "      <th>経度</th>\n",
       "      <th>緯度</th>\n",
       "      <th>...</th>\n",
       "      <th>開所時間_Sa_Su</th>\n",
       "      <th>料金</th>\n",
       "      <th>料金_1</th>\n",
       "      <th>利用交通機関</th>\n",
       "      <th>収容台数_普通車</th>\n",
       "      <th>収容台数_大型</th>\n",
       "      <th>備考_管理者</th>\n",
       "      <th>備考</th>\n",
       "      <th>リンク</th>\n",
       "      <th>更新日</th>\n",
       "    </tr>\n",
       "  </thead>\n",
       "  <tbody>\n",
       "    <tr>\n",
       "      <th>0</th>\n",
       "      <td>139.621626</td>\n",
       "      <td>35.362888</td>\n",
       "      <td>1</td>\n",
       "      <td>D7001</td>\n",
       "      <td>富岡西公園</td>\n",
       "      <td>NaN</td>\n",
       "      <td>P7009</td>\n",
       "      <td>富岡西公園</td>\n",
       "      <td>139.621626</td>\n",
       "      <td>35.362888</td>\n",
       "      <td>...</td>\n",
       "      <td>24時間</td>\n",
       "      <td>2時間300円以降20分50円</td>\n",
       "      <td>NaN</td>\n",
       "      <td>NaN</td>\n",
       "      <td>32</td>\n",
       "      <td>NaN</td>\n",
       "      <td>（財）横浜市緑の協会</td>\n",
       "      <td>NaN</td>\n",
       "      <td>http://park.hama-midorinokyokai.or.jp/parking-...</td>\n",
       "      <td>2013-04-01T00:00:00.000Z</td>\n",
       "    </tr>\n",
       "    <tr>\n",
       "      <th>1</th>\n",
       "      <td>139.634750</td>\n",
       "      <td>35.329050</td>\n",
       "      <td>2</td>\n",
       "      <td>D7002</td>\n",
       "      <td>野島公園</td>\n",
       "      <td>第１駐車場</td>\n",
       "      <td>P7007</td>\n",
       "      <td>野島公園</td>\n",
       "      <td>139.634750</td>\n",
       "      <td>35.329050</td>\n",
       "      <td>...</td>\n",
       "      <td>7:00～23:00</td>\n",
       "      <td>1時間200円以降30分100円</td>\n",
       "      <td>NaN</td>\n",
       "      <td>NaN</td>\n",
       "      <td>104</td>\n",
       "      <td>NaN</td>\n",
       "      <td>（財）横浜市緑の協会</td>\n",
       "      <td>NaN</td>\n",
       "      <td>http://www2.nojima-park.org/access/</td>\n",
       "      <td>2013-04-01T00:00:00.000Z</td>\n",
       "    </tr>\n",
       "    <tr>\n",
       "      <th>2</th>\n",
       "      <td>139.633681</td>\n",
       "      <td>35.329709</td>\n",
       "      <td>3</td>\n",
       "      <td>D7003</td>\n",
       "      <td>野島公園</td>\n",
       "      <td>第２駐車場</td>\n",
       "      <td>P7007</td>\n",
       "      <td>野島公園</td>\n",
       "      <td>139.633681</td>\n",
       "      <td>35.329709</td>\n",
       "      <td>...</td>\n",
       "      <td>7:00～23:00</td>\n",
       "      <td>1時間200円以降30分100円</td>\n",
       "      <td>NaN</td>\n",
       "      <td>NaN</td>\n",
       "      <td>52</td>\n",
       "      <td>NaN</td>\n",
       "      <td>（財）横浜市緑の協会</td>\n",
       "      <td>NaN</td>\n",
       "      <td>http://www2.nojima-park.org/access/</td>\n",
       "      <td>2013-04-01T00:00:00.000Z</td>\n",
       "    </tr>\n",
       "  </tbody>\n",
       "</table>\n",
       "<p>3 rows × 24 columns</p>\n",
       "</div>"
      ],
      "text/plain": [
       "            X          Y  OBJECTID     id    公園名   駐車場名  親施設ID  親施設名称  \\\n",
       "0  139.621626  35.362888         1  D7001  富岡西公園    NaN  P7009  富岡西公園   \n",
       "1  139.634750  35.329050         2  D7002   野島公園  第１駐車場  P7007   野島公園   \n",
       "2  139.633681  35.329709         3  D7003   野島公園  第２駐車場  P7007   野島公園   \n",
       "\n",
       "           経度         緯度            ...             開所時間_Sa_Su  \\\n",
       "0  139.621626  35.362888            ...                   24時間   \n",
       "1  139.634750  35.329050            ...             7:00～23:00   \n",
       "2  139.633681  35.329709            ...             7:00～23:00   \n",
       "\n",
       "                 料金  料金_1 利用交通機関 収容台数_普通車 収容台数_大型      備考_管理者  備考  \\\n",
       "0   2時間300円以降20分50円   NaN    NaN       32     NaN  （財）横浜市緑の協会 NaN   \n",
       "1  1時間200円以降30分100円   NaN    NaN      104     NaN  （財）横浜市緑の協会 NaN   \n",
       "2  1時間200円以降30分100円   NaN    NaN       52     NaN  （財）横浜市緑の協会 NaN   \n",
       "\n",
       "                                                 リンク                       更新日  \n",
       "0  http://park.hama-midorinokyokai.or.jp/parking-...  2013-04-01T00:00:00.000Z  \n",
       "1                http://www2.nojima-park.org/access/  2013-04-01T00:00:00.000Z  \n",
       "2                http://www2.nojima-park.org/access/  2013-04-01T00:00:00.000Z  \n",
       "\n",
       "[3 rows x 24 columns]"
      ]
     },
     "metadata": {},
     "output_type": "display_data"
    }
   ],
   "source": [
    "# csvファイルの読み込み\n",
    "import pandas as pd\n",
    "from IPython.display import display\n",
    "\n",
    "csvfile = 'data/kanazawaParking.csv'\n",
    "# データ内容の確認\n",
    "dataflame = pd.read_csv(csvfile)\n",
    "display(dataflame)"
   ]
  },
  {
   "cell_type": "code",
   "execution_count": 4,
   "metadata": {
    "collapsed": true
   },
   "outputs": [],
   "source": [
    "# CSV ファイルのアップロード\n",
    "parkingCsvItem = gis.content.add({},csvfile)"
   ]
  },
  {
   "cell_type": "code",
   "execution_count": 5,
   "metadata": {},
   "outputs": [
    {
     "data": {
      "text/html": [
       "<div class=\"item_container\" style=\"height: auto; overflow: hidden; border: 1px solid #cfcfcf; border-radius: 2px; background: #f6fafa; line-height: 1.21429em; padding: 10px;\">\n",
       "                    <div class=\"item_left\" style=\"width: 210px; float: left;\">\n",
       "                       <a href='http://wakanameeeko.maps.arcgis.com//home/item.html?id=6f9dbb098fa04ca48522e78a623ae494' target='_blank'>\n",
       "                        <img src='http://static.arcgis.com/images/desktopapp.png' class=\"itemThumbnail\">\n",
       "                       </a>\n",
       "                    </div>\n",
       "\n",
       "                    <div class=\"item_right\"     style=\"float: none; width: auto; overflow: hidden;\">\n",
       "                        <a href='http://wakanameeeko.maps.arcgis.com//home/item.html?id=6f9dbb098fa04ca48522e78a623ae494' target='_blank'><b>kanazawaParking</b>\n",
       "                        </a>\n",
       "                        <br/><img src='http://wakanameeeko.maps.arcgis.com//home/js/jsapi/esri/css/images/item_type_icons/layers16.png' style=\"vertical-align:middle;\">CSV by wakanameeeko\n",
       "                        <br/>Last Modified: 2月 21, 2018\n",
       "                        <br/>0 comments, 0 views\n",
       "                    </div>\n",
       "                </div>\n",
       "                "
      ],
      "text/plain": [
       "<Item title:\"kanazawaParking\" type:CSV owner:wakanameeeko>"
      ]
     },
     "execution_count": 5,
     "metadata": {},
     "output_type": "execute_result"
    }
   ],
   "source": [
    "# FeatureService として公開\n",
    "parkingCsvItem.publish()\n",
    "parkingCsvItem"
   ]
  },
  {
   "cell_type": "markdown",
   "metadata": {},
   "source": [
    "## シェープ ファイルを公開する\n"
   ]
  },
  {
   "cell_type": "code",
   "execution_count": 6,
   "metadata": {
    "collapsed": true
   },
   "outputs": [],
   "source": [
    "# シェープ ファイルのアップロード\n",
    "shpfile = 'data/yokohamaPolygonShp.zip'\n",
    "ShpItem = gis.content.add({}, shpfile)"
   ]
  },
  {
   "cell_type": "code",
   "execution_count": 7,
   "metadata": {},
   "outputs": [
    {
     "data": {
      "text/html": [
       "<div class=\"item_container\" style=\"height: auto; overflow: hidden; border: 1px solid #cfcfcf; border-radius: 2px; background: #f6fafa; line-height: 1.21429em; padding: 10px;\">\n",
       "                    <div class=\"item_left\" style=\"width: 210px; float: left;\">\n",
       "                       <a href='http://wakanameeeko.maps.arcgis.com//home/item.html?id=4daa075d772f46c8a2f399ed58bf8841' target='_blank'>\n",
       "                        <img src='http://static.arcgis.com/images/desktopapp.png' class=\"itemThumbnail\">\n",
       "                       </a>\n",
       "                    </div>\n",
       "\n",
       "                    <div class=\"item_right\"     style=\"float: none; width: auto; overflow: hidden;\">\n",
       "                        <a href='http://wakanameeeko.maps.arcgis.com//home/item.html?id=4daa075d772f46c8a2f399ed58bf8841' target='_blank'><b>yokohamaPolygonShp</b>\n",
       "                        </a>\n",
       "                        <br/><img src='http://wakanameeeko.maps.arcgis.com//home/js/jsapi/esri/css/images/item_type_icons/featureshosted16.png' style=\"vertical-align:middle;\">Feature Layer Collection by wakanameeeko\n",
       "                        <br/>Last Modified: 2月 21, 2018\n",
       "                        <br/>0 comments, 0 views\n",
       "                    </div>\n",
       "                </div>\n",
       "                "
      ],
      "text/plain": [
       "<Item title:\"yokohamaPolygonShp\" type:Feature Layer Collection owner:wakanameeeko>"
      ]
     },
     "execution_count": 7,
     "metadata": {},
     "output_type": "execute_result"
    }
   ],
   "source": [
    "# FeatureService として公開\n",
    "ShpItem.publish()"
   ]
  },
  {
   "cell_type": "markdown",
   "metadata": {},
   "source": [
    "## ファイルジオデータベースを公開する"
   ]
  },
  {
   "cell_type": "code",
   "execution_count": 8,
   "metadata": {
    "collapsed": true
   },
   "outputs": [],
   "source": [
    "# ファイルジオデータベースのアップロード\n",
    "fgdb = 'data/kawasakiEscapeFGDB.zip'\n",
    "fgdbItem = gis.content.add({ 'type': 'File Geodatabase' , 'title':'川崎避難所ファイルジオ'}, fgdb )"
   ]
  },
  {
   "cell_type": "code",
   "execution_count": 9,
   "metadata": {},
   "outputs": [
    {
     "data": {
      "text/html": [
       "<div class=\"item_container\" style=\"height: auto; overflow: hidden; border: 1px solid #cfcfcf; border-radius: 2px; background: #f6fafa; line-height: 1.21429em; padding: 10px;\">\n",
       "                    <div class=\"item_left\" style=\"width: 210px; float: left;\">\n",
       "                       <a href='http://wakanameeeko.maps.arcgis.com//home/item.html?id=9105db2ef6964a6ab057d1dc85a2c906' target='_blank'>\n",
       "                        <img src='http://static.arcgis.com/images/desktopapp.png' class=\"itemThumbnail\">\n",
       "                       </a>\n",
       "                    </div>\n",
       "\n",
       "                    <div class=\"item_right\"     style=\"float: none; width: auto; overflow: hidden;\">\n",
       "                        <a href='http://wakanameeeko.maps.arcgis.com//home/item.html?id=9105db2ef6964a6ab057d1dc85a2c906' target='_blank'><b>川崎避難所ファイルジオ</b>\n",
       "                        </a>\n",
       "                        <br/><img src='http://wakanameeeko.maps.arcgis.com//home/js/jsapi/esri/css/images/item_type_icons/featureshosted16.png' style=\"vertical-align:middle;\">Feature Layer Collection by wakanameeeko\n",
       "                        <br/>Last Modified: 2月 21, 2018\n",
       "                        <br/>0 comments, 0 views\n",
       "                    </div>\n",
       "                </div>\n",
       "                "
      ],
      "text/plain": [
       "<Item title:\"川崎避難所ファイルジオ\" type:Feature Layer Collection owner:wakanameeeko>"
      ]
     },
     "execution_count": 9,
     "metadata": {},
     "output_type": "execute_result"
    }
   ],
   "source": [
    "# FeatureService として公開\n",
    "fgdbItem.publish()"
   ]
  },
  {
   "cell_type": "markdown",
   "metadata": {},
   "source": [
    "### おまけ1\n",
    "\n",
    "* フォルダを作成してみよう\n",
    "* PDFファイルをアップロードしてみよう"
   ]
  },
  {
   "cell_type": "code",
   "execution_count": 10,
   "metadata": {},
   "outputs": [
    {
     "data": {
      "text/plain": [
       "{'id': '5eb59a85f13e41858ea2a9c1b003420d',\n",
       " 'title': 'geodev_2018/02/21',\n",
       " 'username': 'wakanameeeko'}"
      ]
     },
     "execution_count": 10,
     "metadata": {},
     "output_type": "execute_result"
    }
   ],
   "source": [
    "# 日付フォルダを作成する\n",
    "from datetime import datetime as dt\n",
    "tdatetime = dt.now()\n",
    "today = tdatetime.strftime('%Y/%m/%d')\n",
    "FolderName = 'geodev_'+ today\n",
    "# ArcGIS Onlineへ フォルダを作成する\n",
    "newFolder = gis.content.create_folder(FolderName)\n",
    "newFolder"
   ]
  },
  {
   "cell_type": "code",
   "execution_count": 11,
   "metadata": {},
   "outputs": [
    {
     "data": {
      "text/html": [
       "<div class=\"item_container\" style=\"height: auto; overflow: hidden; border: 1px solid #cfcfcf; border-radius: 2px; background: #f6fafa; line-height: 1.21429em; padding: 10px;\">\n",
       "                    <div class=\"item_left\" style=\"width: 210px; float: left;\">\n",
       "                       <a href='http://wakanameeeko.maps.arcgis.com//home/item.html?id=ce3c59acbd384c96b02fa088bd1fdbb9' target='_blank'>\n",
       "                        <img src='http://static.arcgis.com/images/desktopapp.png' class=\"itemThumbnail\">\n",
       "                       </a>\n",
       "                    </div>\n",
       "\n",
       "                    <div class=\"item_right\"     style=\"float: none; width: auto; overflow: hidden;\">\n",
       "                        <a href='http://wakanameeeko.maps.arcgis.com//home/item.html?id=ce3c59acbd384c96b02fa088bd1fdbb9' target='_blank'><b>ESRIジャパンPDFファイル</b>\n",
       "                        </a>\n",
       "                        <br/><img src='http://wakanameeeko.maps.arcgis.com//home/js/jsapi/esri/css/images/item_type_icons/layers16.png' style=\"vertical-align:middle;\">PDF by wakanameeeko\n",
       "                        <br/>Last Modified: 2月 21, 2018\n",
       "                        <br/>0 comments, 0 views\n",
       "                    </div>\n",
       "                </div>\n",
       "                "
      ],
      "text/plain": [
       "<Item title:\"ESRIジャパンPDFファイル\" type:PDF owner:wakanameeeko>"
      ]
     },
     "execution_count": 11,
     "metadata": {},
     "output_type": "execute_result"
    }
   ],
   "source": [
    "pdffile = 'data/ESRIジャパンPDFファイル.pdf'\n",
    "pdffileItem = gis.content.add({'type': 'PDF' }, pdffile)\n",
    "pdffileItem"
   ]
  },
  {
   "cell_type": "code",
   "execution_count": 12,
   "metadata": {},
   "outputs": [
    {
     "data": {
      "text/plain": [
       "{'folder': '5eb59a85f13e41858ea2a9c1b003420d',\n",
       " 'itemId': 'ce3c59acbd384c96b02fa088bd1fdbb9',\n",
       " 'owner': 'wakanameeeko',\n",
       " 'success': True}"
      ]
     },
     "execution_count": 12,
     "metadata": {},
     "output_type": "execute_result"
    }
   ],
   "source": [
    "# フォルダ移動\n",
    "pdffileItem.move(newFolder)"
   ]
  },
  {
   "cell_type": "markdown",
   "metadata": {},
   "source": [
    "### おまけ2\n",
    "\n",
    "* フォルダ指定でWordファイルをアップロードしてみよう"
   ]
  },
  {
   "cell_type": "code",
   "execution_count": 14,
   "metadata": {},
   "outputs": [
    {
     "data": {
      "text/html": [
       "<div class=\"item_container\" style=\"height: auto; overflow: hidden; border: 1px solid #cfcfcf; border-radius: 2px; background: #f6fafa; line-height: 1.21429em; padding: 10px;\">\n",
       "                    <div class=\"item_left\" style=\"width: 210px; float: left;\">\n",
       "                       <a href='http://wakanameeeko.maps.arcgis.com//home/item.html?id=65fa84795cac4f17838c2cbf733808cd' target='_blank'>\n",
       "                        <img src='http://static.arcgis.com/images/desktopapp.png' class=\"itemThumbnail\">\n",
       "                       </a>\n",
       "                    </div>\n",
       "\n",
       "                    <div class=\"item_right\"     style=\"float: none; width: auto; overflow: hidden;\">\n",
       "                        <a href='http://wakanameeeko.maps.arcgis.com//home/item.html?id=65fa84795cac4f17838c2cbf733808cd' target='_blank'><b>ESRIジャパンWordファイル</b>\n",
       "                        </a>\n",
       "                        <br/><img src='http://wakanameeeko.maps.arcgis.com//home/js/jsapi/esri/css/images/item_type_icons/layers16.png' style=\"vertical-align:middle;\">Microsoft Word by wakanameeeko\n",
       "                        <br/>Last Modified: 2月 21, 2018\n",
       "                        <br/>0 comments, 0 views\n",
       "                    </div>\n",
       "                </div>\n",
       "                "
      ],
      "text/plain": [
       "<Item title:\"ESRIジャパンWordファイル\" type:Microsoft Word owner:wakanameeeko>"
      ]
     },
     "execution_count": 14,
     "metadata": {},
     "output_type": "execute_result"
    }
   ],
   "source": [
    "wordfile = 'data/ESRIジャパンWordファイル.docx'\n",
    "wordfileItem = gis.content.add({'type': 'Microsoft Word' }, wordfile , folder=newFolder.get('title'))\n",
    "wordfileItem"
   ]
  },
  {
   "cell_type": "code",
   "execution_count": null,
   "metadata": {
    "collapsed": true
   },
   "outputs": [],
   "source": [
    "# ArcGIS Onlineへログインして、コンテンツとフォルダを見てみましょう"
   ]
  }
 ],
 "metadata": {
  "kernelspec": {
   "display_name": "Python 3",
   "language": "python",
   "name": "python3"
  },
  "language_info": {
   "codemirror_mode": {
    "name": "ipython",
    "version": 3
   },
   "file_extension": ".py",
   "mimetype": "text/x-python",
   "name": "python",
   "nbconvert_exporter": "python",
   "pygments_lexer": "ipython3",
   "version": "3.6.3"
  }
 },
 "nbformat": 4,
 "nbformat_minor": 2
}
