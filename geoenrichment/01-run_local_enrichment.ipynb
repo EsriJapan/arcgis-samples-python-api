{
 "cells": [
  {
   "cell_type": "markdown",
   "id": "cd70dcac",
   "metadata": {},
   "source": [
    "# Geoenrichment モジュールを使った変数の取得\n",
    "\n",
    "ArcGIS API for Python バージョン 1.9.1 以降で、arcgis.geoenrichment モジュールを使用して、GeoEnrichment や情報付加（Enrich Layer）ツールに使用できる変数を検出できるようになりました。本サンプルスクリプトでは、ArcGIS Business Analyst Pro で使用できるローカルデータセットを探索し、情報付加（Enrich Layer）ツールを用いて集計処理を行います。"
   ]
  },
  {
   "cell_type": "markdown",
   "id": "1915325d",
   "metadata": {},
   "source": [
    "# モジュールのインポートと設定"
   ]
  },
  {
   "cell_type": "code",
   "execution_count": 1,
   "id": "db50fb83",
   "metadata": {},
   "outputs": [],
   "source": [
    "from arcgis.geoenrichment import get_countries, Country  # geoenrichment imports\n",
    "from arcgis.gis import GIS\n",
    "import arcpy"
   ]
  },
  {
   "cell_type": "markdown",
   "id": "edfcb63f",
   "metadata": {},
   "source": [
    "## オフライン データの探索\n",
    "\n",
    "ArcGIS Business Analyst Pro で利用できるデータセットを探索します。<br/>\n",
    "gis = GIS(\"Pro\") とすることでオフラインデータセットを検出できるようになります。<br/>\n",
    "ArcGIS API for Python 1.9.1 で as_df パラメーターが追加され、利用可能なデータセットを Pandas Dataframe で取得できるようになりました。"
   ]
  },
  {
   "cell_type": "code",
   "execution_count": 2,
   "id": "d0dd091c",
   "metadata": {
    "scrolled": true
   },
   "outputs": [
    {
     "data": {
      "text/html": [
       "<div>\n",
       "<style scoped>\n",
       "    .dataframe tbody tr th:only-of-type {\n",
       "        vertical-align: middle;\n",
       "    }\n",
       "\n",
       "    .dataframe tbody tr th {\n",
       "        vertical-align: top;\n",
       "    }\n",
       "\n",
       "    .dataframe thead th {\n",
       "        text-align: right;\n",
       "    }\n",
       "</style>\n",
       "<table border=\"1\" class=\"dataframe\">\n",
       "  <thead>\n",
       "    <tr style=\"text-align: right;\">\n",
       "      <th></th>\n",
       "      <th>iso2</th>\n",
       "      <th>iso3</th>\n",
       "      <th>country_name</th>\n",
       "      <th>vintage</th>\n",
       "      <th>country_id</th>\n",
       "      <th>data_source_id</th>\n",
       "    </tr>\n",
       "  </thead>\n",
       "  <tbody>\n",
       "    <tr>\n",
       "      <th>0</th>\n",
       "      <td>JP</td>\n",
       "      <td>JPN</td>\n",
       "      <td>Japan</td>\n",
       "      <td>2020</td>\n",
       "      <td>JPN_EsriJapan_2022</td>\n",
       "      <td>LOCAL;;JPN_EsriJapan_2022</td>\n",
       "    </tr>\n",
       "    <tr>\n",
       "      <th>1</th>\n",
       "      <td>US</td>\n",
       "      <td>USA</td>\n",
       "      <td>United States</td>\n",
       "      <td>2021</td>\n",
       "      <td>USA_ESRI_2021</td>\n",
       "      <td>LOCAL;;USA_ESRI_2021</td>\n",
       "    </tr>\n",
       "  </tbody>\n",
       "</table>\n",
       "</div>"
      ],
      "text/plain": [
       "  iso2 iso3   country_name  vintage          country_id  \\\n",
       "0   JP  JPN          Japan     2020  JPN_EsriJapan_2022   \n",
       "1   US  USA  United States     2021       USA_ESRI_2021   \n",
       "\n",
       "              data_source_id  \n",
       "0  LOCAL;;JPN_EsriJapan_2022  \n",
       "1       LOCAL;;USA_ESRI_2021  "
      ]
     },
     "execution_count": 2,
     "metadata": {},
     "output_type": "execute_result"
    }
   ],
   "source": [
    "gis = GIS(\"Pro\")\n",
    "cntry_df = get_countries(gis, as_df=True)  # as_df パラメーターを使用して Pandas Dataframe で結果を取得\n",
    "cntry_df"
   ]
  },
  {
   "cell_type": "markdown",
   "id": "866f32b0",
   "metadata": {},
   "source": [
    "## データセット内の変数を探索\n",
    "\n",
    "利用可能な変数の一覧を Pandas Dataframe として取得可能です。取得した Dataframe を自由にフィルタリングして、必要な変数のみを抽出することも簡単にできます。"
   ]
  },
  {
   "cell_type": "code",
   "execution_count": 3,
   "id": "d65d5084",
   "metadata": {},
   "outputs": [
    {
     "data": {
      "text/plain": [
       "<Country - Japan 2020 ('local')>"
      ]
     },
     "execution_count": 3,
     "metadata": {},
     "output_type": "execute_result"
    }
   ],
   "source": [
    "# Country オブジェクトを取得\n",
    "jp = Country('JPN', gis)\n",
    "jp"
   ]
  },
  {
   "cell_type": "code",
   "execution_count": 4,
   "id": "ebb7dc7b",
   "metadata": {},
   "outputs": [
    {
     "data": {
      "text/html": [
       "<div>\n",
       "<style scoped>\n",
       "    .dataframe tbody tr th:only-of-type {\n",
       "        vertical-align: middle;\n",
       "    }\n",
       "\n",
       "    .dataframe tbody tr th {\n",
       "        vertical-align: top;\n",
       "    }\n",
       "\n",
       "    .dataframe thead th {\n",
       "        text-align: right;\n",
       "    }\n",
       "</style>\n",
       "<table border=\"1\" class=\"dataframe\">\n",
       "  <thead>\n",
       "    <tr style=\"text-align: right;\">\n",
       "      <th></th>\n",
       "      <th>name</th>\n",
       "      <th>alias</th>\n",
       "      <th>data_collection</th>\n",
       "      <th>enrich_name</th>\n",
       "      <th>enrich_field_name</th>\n",
       "    </tr>\n",
       "  </thead>\n",
       "  <tbody>\n",
       "    <tr>\n",
       "      <th>0</th>\n",
       "      <td>ALL_NUM_OFF_H28</td>\n",
       "      <td>2016 総数 従業者規模 事業所数</td>\n",
       "      <td>CensusOfficebyEmployeeSizeEsriJpan</td>\n",
       "      <td>CensusOfficebyEmployeeSizeEsriJpan.ALL_NUM_OFF...</td>\n",
       "      <td>CensusOfficebyEmployeeSizeEsriJpan_ALL_NUM_OFF...</td>\n",
       "    </tr>\n",
       "    <tr>\n",
       "      <th>1</th>\n",
       "      <td>ALL_WOR_1_4_OFF_H28</td>\n",
       "      <td>2016 総数 従業者規模 1-4人 事業所数</td>\n",
       "      <td>CensusOfficebyEmployeeSizeEsriJpan</td>\n",
       "      <td>CensusOfficebyEmployeeSizeEsriJpan.ALL_WOR_1_4...</td>\n",
       "      <td>CensusOfficebyEmployeeSizeEsriJpan_ALL_WOR_1_4...</td>\n",
       "    </tr>\n",
       "    <tr>\n",
       "      <th>2</th>\n",
       "      <td>ALL_WOR_5_9_OFF_H28</td>\n",
       "      <td>2016 総数 従業者規模 5-9人 事業所数</td>\n",
       "      <td>CensusOfficebyEmployeeSizeEsriJpan</td>\n",
       "      <td>CensusOfficebyEmployeeSizeEsriJpan.ALL_WOR_5_9...</td>\n",
       "      <td>CensusOfficebyEmployeeSizeEsriJpan_ALL_WOR_5_9...</td>\n",
       "    </tr>\n",
       "    <tr>\n",
       "      <th>3</th>\n",
       "      <td>ALL_WOR_1_9_OFF_H28</td>\n",
       "      <td>2016 総数 従業者規模 1-9人 事業所数</td>\n",
       "      <td>CensusOfficebyEmployeeSizeEsriJpan</td>\n",
       "      <td>CensusOfficebyEmployeeSizeEsriJpan.ALL_WOR_1_9...</td>\n",
       "      <td>CensusOfficebyEmployeeSizeEsriJpan_ALL_WOR_1_9...</td>\n",
       "    </tr>\n",
       "    <tr>\n",
       "      <th>4</th>\n",
       "      <td>ALL_WOR_10_19_OFF_H28</td>\n",
       "      <td>2016 総数 従業者規模 10-19人 事業所数</td>\n",
       "      <td>CensusOfficebyEmployeeSizeEsriJpan</td>\n",
       "      <td>CensusOfficebyEmployeeSizeEsriJpan.ALL_WOR_10_...</td>\n",
       "      <td>CensusOfficebyEmployeeSizeEsriJpan_ALL_WOR_10_...</td>\n",
       "    </tr>\n",
       "    <tr>\n",
       "      <th>...</th>\n",
       "      <td>...</td>\n",
       "      <td>...</td>\n",
       "      <td>...</td>\n",
       "      <td>...</td>\n",
       "      <td>...</td>\n",
       "    </tr>\n",
       "    <tr>\n",
       "      <th>1888</th>\n",
       "      <td>P0191</td>\n",
       "      <td>2010 一般世帯数(65歳以上世帯員のみ在住) 単独世帯</td>\n",
       "      <td>PresenceofAgeGroupEsriJapan</td>\n",
       "      <td>PresenceofAgeGroupEsriJapan.P0191</td>\n",
       "      <td>PresenceofAgeGroupEsriJapan_P0191</td>\n",
       "    </tr>\n",
       "    <tr>\n",
       "      <th>1889</th>\n",
       "      <td>M_STNUM_N_H27</td>\n",
       "      <td>2015 在学者数</td>\n",
       "      <td>SchoolEnrollmentMesh</td>\n",
       "      <td>SchoolEnrollmentMesh.M_STNUM_N_H27</td>\n",
       "      <td>SchoolEnrollmentMesh_M_STNUM_N_H27</td>\n",
       "    </tr>\n",
       "    <tr>\n",
       "      <th>1890</th>\n",
       "      <td>M_STNUM_D_H26</td>\n",
       "      <td>2014 生徒・学生数</td>\n",
       "      <td>SchoolEnrollmentMesh</td>\n",
       "      <td>SchoolEnrollmentMesh.M_STNUM_D_H26</td>\n",
       "      <td>SchoolEnrollmentMesh_M_STNUM_D_H26</td>\n",
       "    </tr>\n",
       "    <tr>\n",
       "      <th>1891</th>\n",
       "      <td>M_STNUM_N_H22</td>\n",
       "      <td>2010 在学者数</td>\n",
       "      <td>SchoolEnrollmentMesh</td>\n",
       "      <td>SchoolEnrollmentMesh.M_STNUM_N_H22</td>\n",
       "      <td>SchoolEnrollmentMesh_M_STNUM_N_H22</td>\n",
       "    </tr>\n",
       "    <tr>\n",
       "      <th>1892</th>\n",
       "      <td>M_STNUM_D_H21</td>\n",
       "      <td>2009 生徒・学生数</td>\n",
       "      <td>SchoolEnrollmentMesh</td>\n",
       "      <td>SchoolEnrollmentMesh.M_STNUM_D_H21</td>\n",
       "      <td>SchoolEnrollmentMesh_M_STNUM_D_H21</td>\n",
       "    </tr>\n",
       "  </tbody>\n",
       "</table>\n",
       "<p>1893 rows × 5 columns</p>\n",
       "</div>"
      ],
      "text/plain": [
       "                       name                          alias  \\\n",
       "0           ALL_NUM_OFF_H28             2016 総数 従業者規模 事業所数   \n",
       "1       ALL_WOR_1_4_OFF_H28        2016 総数 従業者規模 1-4人 事業所数   \n",
       "2       ALL_WOR_5_9_OFF_H28        2016 総数 従業者規模 5-9人 事業所数   \n",
       "3       ALL_WOR_1_9_OFF_H28        2016 総数 従業者規模 1-9人 事業所数   \n",
       "4     ALL_WOR_10_19_OFF_H28      2016 総数 従業者規模 10-19人 事業所数   \n",
       "...                     ...                            ...   \n",
       "1888                  P0191  2010 一般世帯数(65歳以上世帯員のみ在住) 単独世帯   \n",
       "1889          M_STNUM_N_H27                      2015 在学者数   \n",
       "1890          M_STNUM_D_H26                    2014 生徒・学生数   \n",
       "1891          M_STNUM_N_H22                      2010 在学者数   \n",
       "1892          M_STNUM_D_H21                    2009 生徒・学生数   \n",
       "\n",
       "                         data_collection  \\\n",
       "0     CensusOfficebyEmployeeSizeEsriJpan   \n",
       "1     CensusOfficebyEmployeeSizeEsriJpan   \n",
       "2     CensusOfficebyEmployeeSizeEsriJpan   \n",
       "3     CensusOfficebyEmployeeSizeEsriJpan   \n",
       "4     CensusOfficebyEmployeeSizeEsriJpan   \n",
       "...                                  ...   \n",
       "1888         PresenceofAgeGroupEsriJapan   \n",
       "1889                SchoolEnrollmentMesh   \n",
       "1890                SchoolEnrollmentMesh   \n",
       "1891                SchoolEnrollmentMesh   \n",
       "1892                SchoolEnrollmentMesh   \n",
       "\n",
       "                                            enrich_name  \\\n",
       "0     CensusOfficebyEmployeeSizeEsriJpan.ALL_NUM_OFF...   \n",
       "1     CensusOfficebyEmployeeSizeEsriJpan.ALL_WOR_1_4...   \n",
       "2     CensusOfficebyEmployeeSizeEsriJpan.ALL_WOR_5_9...   \n",
       "3     CensusOfficebyEmployeeSizeEsriJpan.ALL_WOR_1_9...   \n",
       "4     CensusOfficebyEmployeeSizeEsriJpan.ALL_WOR_10_...   \n",
       "...                                                 ...   \n",
       "1888                  PresenceofAgeGroupEsriJapan.P0191   \n",
       "1889                 SchoolEnrollmentMesh.M_STNUM_N_H27   \n",
       "1890                 SchoolEnrollmentMesh.M_STNUM_D_H26   \n",
       "1891                 SchoolEnrollmentMesh.M_STNUM_N_H22   \n",
       "1892                 SchoolEnrollmentMesh.M_STNUM_D_H21   \n",
       "\n",
       "                                      enrich_field_name  \n",
       "0     CensusOfficebyEmployeeSizeEsriJpan_ALL_NUM_OFF...  \n",
       "1     CensusOfficebyEmployeeSizeEsriJpan_ALL_WOR_1_4...  \n",
       "2     CensusOfficebyEmployeeSizeEsriJpan_ALL_WOR_5_9...  \n",
       "3     CensusOfficebyEmployeeSizeEsriJpan_ALL_WOR_1_9...  \n",
       "4     CensusOfficebyEmployeeSizeEsriJpan_ALL_WOR_10_...  \n",
       "...                                                 ...  \n",
       "1888                  PresenceofAgeGroupEsriJapan_P0191  \n",
       "1889                 SchoolEnrollmentMesh_M_STNUM_N_H27  \n",
       "1890                 SchoolEnrollmentMesh_M_STNUM_D_H26  \n",
       "1891                 SchoolEnrollmentMesh_M_STNUM_N_H22  \n",
       "1892                 SchoolEnrollmentMesh_M_STNUM_D_H21  \n",
       "\n",
       "[1893 rows x 5 columns]"
      ]
     },
     "execution_count": 4,
     "metadata": {},
     "output_type": "execute_result"
    }
   ],
   "source": [
    "# 利用可能な全変数を取得\n",
    "ev = jp.enrich_variables\n",
    "ev"
   ]
  },
  {
   "cell_type": "markdown",
   "id": "a97ead8e",
   "metadata": {},
   "source": [
    "### 必要な変数のみをフィルタリング"
   ]
  },
  {
   "cell_type": "code",
   "execution_count": 5,
   "id": "8eb6bf6a",
   "metadata": {
    "scrolled": true
   },
   "outputs": [
    {
     "data": {
      "text/html": [
       "<div>\n",
       "<style scoped>\n",
       "    .dataframe tbody tr th:only-of-type {\n",
       "        vertical-align: middle;\n",
       "    }\n",
       "\n",
       "    .dataframe tbody tr th {\n",
       "        vertical-align: top;\n",
       "    }\n",
       "\n",
       "    .dataframe thead th {\n",
       "        text-align: right;\n",
       "    }\n",
       "</style>\n",
       "<table border=\"1\" class=\"dataframe\">\n",
       "  <thead>\n",
       "    <tr style=\"text-align: right;\">\n",
       "      <th></th>\n",
       "      <th>name</th>\n",
       "      <th>alias</th>\n",
       "      <th>data_collection</th>\n",
       "      <th>enrich_name</th>\n",
       "      <th>enrich_field_name</th>\n",
       "    </tr>\n",
       "  </thead>\n",
       "  <tbody>\n",
       "    <tr>\n",
       "      <th>0</th>\n",
       "      <td>D0001</td>\n",
       "      <td>2015 人口総数</td>\n",
       "      <td>PopulationTotalsEsriJapan</td>\n",
       "      <td>PopulationTotalsEsriJapan.D0001</td>\n",
       "      <td>PopulationTotalsEsriJapan_D0001</td>\n",
       "    </tr>\n",
       "    <tr>\n",
       "      <th>1</th>\n",
       "      <td>POPGRW_DF20</td>\n",
       "      <td>2015-2020 人口総数 増減率 (%)</td>\n",
       "      <td>PopulationTotalsEsriJapan</td>\n",
       "      <td>PopulationTotalsEsriJapan.POPGRW_DF20</td>\n",
       "      <td>PopulationTotalsEsriJapan_POPGRW_DF20</td>\n",
       "    </tr>\n",
       "    <tr>\n",
       "      <th>2</th>\n",
       "      <td>POPGRW_DF25</td>\n",
       "      <td>2015-2025 人口総数 増減率 (%)</td>\n",
       "      <td>PopulationTotalsEsriJapan</td>\n",
       "      <td>PopulationTotalsEsriJapan.POPGRW_DF25</td>\n",
       "      <td>PopulationTotalsEsriJapan_POPGRW_DF25</td>\n",
       "    </tr>\n",
       "    <tr>\n",
       "      <th>3</th>\n",
       "      <td>POPGRW_DF30</td>\n",
       "      <td>2015-2030 人口総数 増減率 (%)</td>\n",
       "      <td>PopulationTotalsEsriJapan</td>\n",
       "      <td>PopulationTotalsEsriJapan.POPGRW_DF30</td>\n",
       "      <td>PopulationTotalsEsriJapan_POPGRW_DF30</td>\n",
       "    </tr>\n",
       "  </tbody>\n",
       "</table>\n",
       "</div>"
      ],
      "text/plain": [
       "          name                   alias            data_collection  \\\n",
       "0        D0001               2015 人口総数  PopulationTotalsEsriJapan   \n",
       "1  POPGRW_DF20  2015-2020 人口総数 増減率 (%)  PopulationTotalsEsriJapan   \n",
       "2  POPGRW_DF25  2015-2025 人口総数 増減率 (%)  PopulationTotalsEsriJapan   \n",
       "3  POPGRW_DF30  2015-2030 人口総数 増減率 (%)  PopulationTotalsEsriJapan   \n",
       "\n",
       "                             enrich_name  \\\n",
       "0        PopulationTotalsEsriJapan.D0001   \n",
       "1  PopulationTotalsEsriJapan.POPGRW_DF20   \n",
       "2  PopulationTotalsEsriJapan.POPGRW_DF25   \n",
       "3  PopulationTotalsEsriJapan.POPGRW_DF30   \n",
       "\n",
       "                       enrich_field_name  \n",
       "0        PopulationTotalsEsriJapan_D0001  \n",
       "1  PopulationTotalsEsriJapan_POPGRW_DF20  \n",
       "2  PopulationTotalsEsriJapan_POPGRW_DF25  \n",
       "3  PopulationTotalsEsriJapan_POPGRW_DF30  "
      ]
     },
     "execution_count": 5,
     "metadata": {},
     "output_type": "execute_result"
    }
   ],
   "source": [
    "# この例では以下の条件でフィルタリングしています\n",
    "kv = ev[\n",
    "    (ev.alias.str.startswith(u'2015')  # 2015 からエイリアス名が始まる\n",
    "    & ev.alias.str.contains(u\"人口総数\") # かつ人口総数を含む\n",
    "    & ev.data_collection.str.contains(\"Totals\")) # かつ DataCollection に Totals を含む\n",
    "].reset_index(drop=True)\n",
    "kv"
   ]
  },
  {
   "cell_type": "markdown",
   "id": "042c0bc0",
   "metadata": {
    "scrolled": true
   },
   "source": [
    "## 情報付加対象のポリゴンを生成\n",
    "\n",
    "情報付加対象のポリゴンを生成します。今回は ArcGIS Online 上の優良コンテンツを集めた ArcGIS Living Atlas of the World (https://livingatlas.arcgis.com/ja/) から<br/>\n",
    "都道府県庁を取得し、その周辺に 5km 圏を生成します。<br/>\n",
    "https://www.arcgis.com/home/item.html?id=4d1349c0f93a4844b4b9f725bf101181"
   ]
  },
  {
   "cell_type": "code",
   "execution_count": 6,
   "id": "885c04d4",
   "metadata": {
    "scrolled": true
   },
   "outputs": [
    {
     "data": {
      "text/html": [
       "<div class=\"item_container\" style=\"height: auto; overflow: hidden; border: 1px solid #cfcfcf; border-radius: 2px; background: #f6fafa; line-height: 1.21429em; padding: 10px;\">\n",
       "                    <div class=\"item_left\" style=\"width: 210px; float: left;\">\n",
       "                       <a href='https://www.arcgis.com//home/item.html?id=4d1349c0f93a4844b4b9f725bf101181' target='_blank'>\n",
       "                        <img src='data:image/png;base64,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' width='200' height='133' class=\"itemThumbnail\">\n",
       "                       </a>\n",
       "                    </div>\n",
       "\n",
       "                    <div class=\"item_right\"     style=\"float: none; width: auto; overflow: hidden;\">\n",
       "                        <a href='https://www.arcgis.com//home/item.html?id=4d1349c0f93a4844b4b9f725bf101181' target='_blank'><b>都道府県庁所在地</b>\n",
       "                        </a>\n",
       "                        <br/>各都道府県の県庁所在地を表しているポイントデータです。\n",
       "ポイントは各都道府県の庁舎がある位置に落としてあります。<img src='https://www.arcgis.com//home/js/jsapi/esri/css/images/item_type_icons/featureshosted16.png' style=\"vertical-align:middle;\">Feature Layer Collection by Esri_JP_Content\n",
       "                        <br/>Last Modified: 2月 24, 2022\n",
       "                        <br/>0 comments, 0 views\n",
       "                    </div>\n",
       "                </div>\n",
       "                "
      ],
      "text/plain": [
       "<Item title:\"都道府県庁所在地\" type:Feature Layer Collection owner:Esri_JP_Content>"
      ]
     },
     "execution_count": 6,
     "metadata": {},
     "output_type": "execute_result"
    }
   ],
   "source": [
    "from arcgis.gis import Item\n",
    "item = Item(gis=gis, itemid = u'4d1349c0f93a4844b4b9f725bf101181')\n",
    "# itemid はアイテム詳細ページの id= 以下の id を指します\n",
    "item"
   ]
  },
  {
   "cell_type": "markdown",
   "id": "19851398",
   "metadata": {},
   "source": [
    "都道府県庁所在地から 5km のリング商圏を作成"
   ]
  },
  {
   "cell_type": "code",
   "execution_count": 7,
   "id": "6cbbae1a",
   "metadata": {},
   "outputs": [
    {
     "name": "stdout",
     "output_type": "stream",
     "text": [
      "Business Analyst エクステンションのチェックアウト完了\n"
     ]
    }
   ],
   "source": [
    "# Business Analyst エクステンションのチェックアウト\n",
    "if (arcpy.CheckExtension(\"BusinessPrem\") == \"Available\"):\n",
    "    arcpy.CheckOutExtension = \"BusinessPrem\"\n",
    "    print(u\"Business Analyst エクステンションのチェックアウト完了\")\n",
    "else:\n",
    "    print(u\"Business Analyst エクステンションのライセンスを取得できません。\")"
   ]
  },
  {
   "cell_type": "code",
   "execution_count": 8,
   "id": "da0fc154",
   "metadata": {},
   "outputs": [
    {
     "data": {
      "text/html": [
       "<div class='gpresult'><h2>Messages</h2><div id='messages' data-messages='[\"開始時間: 2022年2月25日 11:29:24\",\"完了 (2022年2月25日 11:29:28) (経過時間: 3.58 秒)\"]' data-show='true'><div id = 'default' /></div></div>"
      ],
      "text/plain": [
       "<Result 'memory\\\\tmp5kmRings'>"
      ]
     },
     "execution_count": 8,
     "metadata": {},
     "output_type": "execute_result"
    }
   ],
   "source": [
    "# item から一つ目のレイヤーの service URL を取得\n",
    "serviceURL = item.layers[0].url\n",
    "ring_ta = r\"memory\\tmp5kmRings\"\n",
    "# リング商圏の生成ツールを実行\n",
    "# https://pro.arcgis.com/ja/pro-app/latest/tool-reference/business-analyst/generate-trade-area-rings.htm\n",
    "arcpy.ba.GenerateTradeAreaRings(in_features=serviceURL,          # 入力データとして都道府県庁所在地の Service URL を使用\n",
    "                                out_feature_class=ring_ta,       # memory ワークスペースに出力（上書き不可）\n",
    "                                radii=[5],                       # 半径 5km\n",
    "                                units=\"KILOMETERS\")"
   ]
  },
  {
   "cell_type": "markdown",
   "id": "aae76d2b",
   "metadata": {},
   "source": [
    "## 情報付加 (Enrich Layer) を実行"
   ]
  },
  {
   "cell_type": "code",
   "execution_count": 9,
   "id": "b035df9a",
   "metadata": {
    "scrolled": true
   },
   "outputs": [
    {
     "data": {
      "text/plain": [
       "'memory\\\\ring_enrich'"
      ]
     },
     "execution_count": 9,
     "metadata": {},
     "output_type": "execute_result"
    }
   ],
   "source": [
    "enrich_fc = arcpy.ba.EnrichLayer(\n",
    "    in_features=ring_ta,                     # 入力データとして都道府県庁所在地からの 5km リング商圏を使用\n",
    "    out_feature_class=r'memory\\ring_enrich',  # memory ワークスペースに出力（上書き不可）\n",
    "    variables=list(kv.enrich_name)         # Series から List 作成\n",
    ")[0]                                       # result オブジェクトから最初のアイテムを取得\n",
    "\n",
    "enrich_fc"
   ]
  },
  {
   "cell_type": "markdown",
   "id": "0be776a9",
   "metadata": {},
   "source": [
    "## Dataframe に変換して出力結果のクリーンアップ\n",
    "\n",
    "memory ワークスペースに出力したフィーチャクラスを Pandas Dataframe に出力して、スキーマの調整を行います。"
   ]
  },
  {
   "cell_type": "code",
   "execution_count": 10,
   "id": "e445acaa",
   "metadata": {},
   "outputs": [
    {
     "name": "stdout",
     "output_type": "stream",
     "text": [
      "<class 'pandas.core.frame.DataFrame'>\n",
      "RangeIndex: 47 entries, 0 to 46\n",
      "Data columns (total 22 columns):\n",
      " #   Column                                 Non-Null Count  Dtype   \n",
      "---  ------                                 --------------  -----   \n",
      " 0   OBJECTID                               47 non-null     int64   \n",
      " 1   AREA_ID                                47 non-null     object  \n",
      " 2   AREA_DESC                              47 non-null     object  \n",
      " 3   AREA_DESC2                             47 non-null     object  \n",
      " 4   AREA_DESC3                             47 non-null     object  \n",
      " 5   RING                                   47 non-null     int64   \n",
      " 6   RING_DEFN                              47 non-null     object  \n",
      " 7   STORE_LAT                              47 non-null     float64 \n",
      " 8   STORE_LON                              47 non-null     float64 \n",
      " 9   STORE_ID                               47 non-null     object  \n",
      " 10  PREFCODE                               47 non-null     object  \n",
      " 11  CITYCODE                               47 non-null     object  \n",
      " 12  PREFNAME                               47 non-null     object  \n",
      " 13  NAME                                   47 non-null     object  \n",
      " 14  ADDRESS                                47 non-null     object  \n",
      " 15  HasData                                47 non-null     int64   \n",
      " 16  aggregationMethod                      47 non-null     object  \n",
      " 17  PopulationTotalsEsriJapan_D0001        47 non-null     float64 \n",
      " 18  PopulationTotalsEsriJapan_POPGRW_DF20  47 non-null     float64 \n",
      " 19  PopulationTotalsEsriJapan_POPGRW_DF25  47 non-null     float64 \n",
      " 20  PopulationTotalsEsriJapan_POPGRW_DF30  47 non-null     float64 \n",
      " 21  SHAPE                                  47 non-null     geometry\n",
      "dtypes: float64(6), geometry(1), int64(3), object(12)\n",
      "memory usage: 8.2+ KB\n",
      "None\n"
     ]
    },
    {
     "data": {
      "text/html": [
       "<div>\n",
       "<style scoped>\n",
       "    .dataframe tbody tr th:only-of-type {\n",
       "        vertical-align: middle;\n",
       "    }\n",
       "\n",
       "    .dataframe tbody tr th {\n",
       "        vertical-align: top;\n",
       "    }\n",
       "\n",
       "    .dataframe thead th {\n",
       "        text-align: right;\n",
       "    }\n",
       "</style>\n",
       "<table border=\"1\" class=\"dataframe\">\n",
       "  <thead>\n",
       "    <tr style=\"text-align: right;\">\n",
       "      <th></th>\n",
       "      <th>OBJECTID</th>\n",
       "      <th>AREA_ID</th>\n",
       "      <th>AREA_DESC</th>\n",
       "      <th>AREA_DESC2</th>\n",
       "      <th>AREA_DESC3</th>\n",
       "      <th>RING</th>\n",
       "      <th>RING_DEFN</th>\n",
       "      <th>STORE_LAT</th>\n",
       "      <th>STORE_LON</th>\n",
       "      <th>STORE_ID</th>\n",
       "      <th>...</th>\n",
       "      <th>PREFNAME</th>\n",
       "      <th>NAME</th>\n",
       "      <th>ADDRESS</th>\n",
       "      <th>HasData</th>\n",
       "      <th>aggregationMethod</th>\n",
       "      <th>PopulationTotalsEsriJapan_D0001</th>\n",
       "      <th>PopulationTotalsEsriJapan_POPGRW_DF20</th>\n",
       "      <th>PopulationTotalsEsriJapan_POPGRW_DF25</th>\n",
       "      <th>PopulationTotalsEsriJapan_POPGRW_DF30</th>\n",
       "      <th>SHAPE</th>\n",
       "    </tr>\n",
       "  </thead>\n",
       "  <tbody>\n",
       "    <tr>\n",
       "      <th>0</th>\n",
       "      <td>1</td>\n",
       "      <td>1_1</td>\n",
       "      <td>5 キロメートル</td>\n",
       "      <td>リング: 5 キロメートル 距離</td>\n",
       "      <td>リング: 5 キロメートル 距離</td>\n",
       "      <td>1</td>\n",
       "      <td>5</td>\n",
       "      <td>43.064325</td>\n",
       "      <td>141.346878</td>\n",
       "      <td>1</td>\n",
       "      <td>...</td>\n",
       "      <td>北海道</td>\n",
       "      <td>北海道庁舎</td>\n",
       "      <td>札幌市中央区北3条西6丁目</td>\n",
       "      <td>1</td>\n",
       "      <td>BlockApportionment:JP.Blocks;PointsLayer:JP.Bl...</td>\n",
       "      <td>766195.0</td>\n",
       "      <td>2.84</td>\n",
       "      <td>4.46</td>\n",
       "      <td>5.17</td>\n",
       "      <td>{\"rings\": [[[141.34687780000002, 43.1092402740...</td>\n",
       "    </tr>\n",
       "    <tr>\n",
       "      <th>1</th>\n",
       "      <td>2</td>\n",
       "      <td>2_1</td>\n",
       "      <td>5 キロメートル</td>\n",
       "      <td>リング: 5 キロメートル 距離</td>\n",
       "      <td>リング: 5 キロメートル 距離</td>\n",
       "      <td>1</td>\n",
       "      <td>5</td>\n",
       "      <td>40.824440</td>\n",
       "      <td>140.740005</td>\n",
       "      <td>2</td>\n",
       "      <td>...</td>\n",
       "      <td>青森県</td>\n",
       "      <td>青森県庁舎</td>\n",
       "      <td>青森市長島1-1-1</td>\n",
       "      <td>1</td>\n",
       "      <td>BlockApportionment:JP.Blocks;PointsLayer:JP.Bl...</td>\n",
       "      <td>199729.0</td>\n",
       "      <td>-4.60</td>\n",
       "      <td>-9.97</td>\n",
       "      <td>-15.76</td>\n",
       "      <td>{\"rings\": [[[140.74000496000008, 40.8693557540...</td>\n",
       "    </tr>\n",
       "    <tr>\n",
       "      <th>2</th>\n",
       "      <td>3</td>\n",
       "      <td>3_1</td>\n",
       "      <td>5 キロメートル</td>\n",
       "      <td>リング: 5 キロメートル 距離</td>\n",
       "      <td>リング: 5 キロメートル 距離</td>\n",
       "      <td>1</td>\n",
       "      <td>5</td>\n",
       "      <td>39.703570</td>\n",
       "      <td>141.152652</td>\n",
       "      <td>3</td>\n",
       "      <td>...</td>\n",
       "      <td>岩手県</td>\n",
       "      <td>岩手県庁舎</td>\n",
       "      <td>盛岡市内丸10-1</td>\n",
       "      <td>1</td>\n",
       "      <td>BlockApportionment:JP.Blocks;PointsLayer:JP.Bl...</td>\n",
       "      <td>208904.0</td>\n",
       "      <td>-0.95</td>\n",
       "      <td>-2.80</td>\n",
       "      <td>-5.19</td>\n",
       "      <td>{\"rings\": [[[141.1526515500001, 39.74848530400...</td>\n",
       "    </tr>\n",
       "    <tr>\n",
       "      <th>3</th>\n",
       "      <td>4</td>\n",
       "      <td>4_1</td>\n",
       "      <td>5 キロメートル</td>\n",
       "      <td>リング: 5 キロメートル 距離</td>\n",
       "      <td>リング: 5 キロメートル 距離</td>\n",
       "      <td>1</td>\n",
       "      <td>5</td>\n",
       "      <td>38.268930</td>\n",
       "      <td>140.872147</td>\n",
       "      <td>4</td>\n",
       "      <td>...</td>\n",
       "      <td>宮城県</td>\n",
       "      <td>宮城県庁舎</td>\n",
       "      <td>仙台市青葉区本町3-8-1</td>\n",
       "      <td>1</td>\n",
       "      <td>BlockApportionment:JP.Blocks;PointsLayer:JP.Bl...</td>\n",
       "      <td>530631.0</td>\n",
       "      <td>0.01</td>\n",
       "      <td>-1.82</td>\n",
       "      <td>-4.28</td>\n",
       "      <td>{\"rings\": [[[140.87214656000003, 38.3138459340...</td>\n",
       "    </tr>\n",
       "    <tr>\n",
       "      <th>4</th>\n",
       "      <td>5</td>\n",
       "      <td>5_1</td>\n",
       "      <td>5 キロメートル</td>\n",
       "      <td>リング: 5 キロメートル 距離</td>\n",
       "      <td>リング: 5 キロメートル 距離</td>\n",
       "      <td>1</td>\n",
       "      <td>5</td>\n",
       "      <td>39.718626</td>\n",
       "      <td>140.102381</td>\n",
       "      <td>5</td>\n",
       "      <td>...</td>\n",
       "      <td>秋田県</td>\n",
       "      <td>秋田県庁舎</td>\n",
       "      <td>秋田市山王4-1-1</td>\n",
       "      <td>1</td>\n",
       "      <td>BlockApportionment:JP.Blocks;PointsLayer:JP.Bl...</td>\n",
       "      <td>218518.0</td>\n",
       "      <td>-2.89</td>\n",
       "      <td>-6.66</td>\n",
       "      <td>-11.09</td>\n",
       "      <td>{\"rings\": [[[140.10238069000002, 39.7635421740...</td>\n",
       "    </tr>\n",
       "  </tbody>\n",
       "</table>\n",
       "<p>5 rows × 22 columns</p>\n",
       "</div>"
      ],
      "text/plain": [
       "   OBJECTID AREA_ID AREA_DESC        AREA_DESC2        AREA_DESC3  RING  \\\n",
       "0         1     1_1  5 キロメートル  リング: 5 キロメートル 距離  リング: 5 キロメートル 距離     1   \n",
       "1         2     2_1  5 キロメートル  リング: 5 キロメートル 距離  リング: 5 キロメートル 距離     1   \n",
       "2         3     3_1  5 キロメートル  リング: 5 キロメートル 距離  リング: 5 キロメートル 距離     1   \n",
       "3         4     4_1  5 キロメートル  リング: 5 キロメートル 距離  リング: 5 キロメートル 距離     1   \n",
       "4         5     5_1  5 キロメートル  リング: 5 キロメートル 距離  リング: 5 キロメートル 距離     1   \n",
       "\n",
       "  RING_DEFN  STORE_LAT   STORE_LON STORE_ID  ... PREFNAME   NAME  \\\n",
       "0         5  43.064325  141.346878        1  ...      北海道  北海道庁舎   \n",
       "1         5  40.824440  140.740005        2  ...      青森県  青森県庁舎   \n",
       "2         5  39.703570  141.152652        3  ...      岩手県  岩手県庁舎   \n",
       "3         5  38.268930  140.872147        4  ...      宮城県  宮城県庁舎   \n",
       "4         5  39.718626  140.102381        5  ...      秋田県  秋田県庁舎   \n",
       "\n",
       "         ADDRESS HasData                                  aggregationMethod  \\\n",
       "0  札幌市中央区北3条西6丁目       1  BlockApportionment:JP.Blocks;PointsLayer:JP.Bl...   \n",
       "1     青森市長島1-1-1       1  BlockApportionment:JP.Blocks;PointsLayer:JP.Bl...   \n",
       "2      盛岡市内丸10-1       1  BlockApportionment:JP.Blocks;PointsLayer:JP.Bl...   \n",
       "3  仙台市青葉区本町3-8-1       1  BlockApportionment:JP.Blocks;PointsLayer:JP.Bl...   \n",
       "4     秋田市山王4-1-1       1  BlockApportionment:JP.Blocks;PointsLayer:JP.Bl...   \n",
       "\n",
       "   PopulationTotalsEsriJapan_D0001 PopulationTotalsEsriJapan_POPGRW_DF20  \\\n",
       "0                         766195.0                                  2.84   \n",
       "1                         199729.0                                 -4.60   \n",
       "2                         208904.0                                 -0.95   \n",
       "3                         530631.0                                  0.01   \n",
       "4                         218518.0                                 -2.89   \n",
       "\n",
       "   PopulationTotalsEsriJapan_POPGRW_DF25  \\\n",
       "0                                   4.46   \n",
       "1                                  -9.97   \n",
       "2                                  -2.80   \n",
       "3                                  -1.82   \n",
       "4                                  -6.66   \n",
       "\n",
       "   PopulationTotalsEsriJapan_POPGRW_DF30  \\\n",
       "0                                   5.17   \n",
       "1                                 -15.76   \n",
       "2                                  -5.19   \n",
       "3                                  -4.28   \n",
       "4                                 -11.09   \n",
       "\n",
       "                                               SHAPE  \n",
       "0  {\"rings\": [[[141.34687780000002, 43.1092402740...  \n",
       "1  {\"rings\": [[[140.74000496000008, 40.8693557540...  \n",
       "2  {\"rings\": [[[141.1526515500001, 39.74848530400...  \n",
       "3  {\"rings\": [[[140.87214656000003, 38.3138459340...  \n",
       "4  {\"rings\": [[[140.10238069000002, 39.7635421740...  \n",
       "\n",
       "[5 rows x 22 columns]"
      ]
     },
     "execution_count": 10,
     "metadata": {},
     "output_type": "execute_result"
    }
   ],
   "source": [
    "from arcgis.features import GeoAccessor\n",
    "enrich_df = GeoAccessor.from_featureclass(enrich_fc)\n",
    "\n",
    "print(enrich_df.info())\n",
    "enrich_df.head()"
   ]
  },
  {
   "cell_type": "markdown",
   "id": "7c9c78bf",
   "metadata": {},
   "source": [
    "必要なカラム以外はドロップ"
   ]
  },
  {
   "cell_type": "code",
   "execution_count": 11,
   "id": "0a70bacf",
   "metadata": {},
   "outputs": [
    {
     "name": "stdout",
     "output_type": "stream",
     "text": [
      "<class 'pandas.core.frame.DataFrame'>\n",
      "RangeIndex: 47 entries, 0 to 46\n",
      "Data columns (total 5 columns):\n",
      " #   Column                                 Non-Null Count  Dtype  \n",
      "---  ------                                 --------------  -----  \n",
      " 0   NAME                                   47 non-null     object \n",
      " 1   PopulationTotalsEsriJapan_D0001        47 non-null     float64\n",
      " 2   PopulationTotalsEsriJapan_POPGRW_DF20  47 non-null     float64\n",
      " 3   PopulationTotalsEsriJapan_POPGRW_DF25  47 non-null     float64\n",
      " 4   PopulationTotalsEsriJapan_POPGRW_DF30  47 non-null     float64\n",
      "dtypes: float64(4), object(1)\n",
      "memory usage: 2.0+ KB\n"
     ]
    }
   ],
   "source": [
    "drop_cols = [c for c in enrich_df.columns if not\n",
    "    (c in kv.enrich_field_name.values # 情報付加した変数の出力名（フィールド名）\n",
    "    or c.lower() == \"name\")           # もしくは name フィールド\n",
    "]\n",
    "enrich_df.drop(columns=drop_cols, inplace=True)\n",
    "enrich_df.info()"
   ]
  },
  {
   "cell_type": "markdown",
   "id": "17c55b3c",
   "metadata": {
    "scrolled": true
   },
   "source": [
    "## 結果の保存\n",
    "\n",
    "最後に Pandas Dataframe に保存した結果を CSV に保存します。"
   ]
  },
  {
   "cell_type": "code",
   "execution_count": 12,
   "id": "2c8a5a46",
   "metadata": {
    "scrolled": false
   },
   "outputs": [],
   "source": [
    "# 結果をCSVに保存\n",
    "enrich_df.to_csv('enrich_local.csv', index=False)"
   ]
  },
  {
   "cell_type": "code",
   "execution_count": null,
   "id": "b0816e25",
   "metadata": {},
   "outputs": [],
   "source": []
  }
 ],
 "metadata": {
  "kernelspec": {
   "display_name": "Python 3",
   "language": "python",
   "name": "python3"
  },
  "language_info": {
   "codemirror_mode": {
    "name": "ipython",
    "version": 3
   },
   "file_extension": ".py",
   "mimetype": "text/x-python",
   "name": "python",
   "nbconvert_exporter": "python",
   "pygments_lexer": "ipython3",
   "version": "3.7.11"
  }
 },
 "nbformat": 4,
 "nbformat_minor": 5
}
