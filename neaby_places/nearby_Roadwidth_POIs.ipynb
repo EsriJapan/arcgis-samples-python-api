{
 "cells": [
  {
   "cell_type": "markdown",
   "metadata": {},
   "source": [
    "# 物件探しも自動化！ ArcGIS API for Python で近隣検索ツールの開発\n",
    "\n",
    "## はじめに\n",
    " 米国Esri社では、開発者向け製品として [`ArcGIS Developer`](https://www.esrij.com/products/arcgis-for-developers/) がリリースされており、[`ArcGIS API for Python`](https://www.esrij.com/products/arcgis-api-for-python/) もその一つとして提供しています。これは、 WebGIS での空間データの管理・操作に用いられることが多い API で、主に GIS と連動した空間データの処理の自動化に用いられるなどしています。また、`Python` という言語の豊富なライブラリを用いてそれらのデータのビジュアライズや分析を行なうことに長けているのが特長です。\n",
    " \n",
    " このサンプルノートブックは、`ArcGIS API for Python` で使用できるモジュールを用いて、ある地点の近くにある道路の幅員と 500m 圏内にある指定した建物情報の取得を実現しています。これらの結果は、`CSV` に書き込まれます。\n",
    "検索する場所の指定の方法として、以下の二つの方法を用意しています。\n",
    " \n",
    " \n",
    " ① `Jupyter Notebook` 上に表示したマップをクリックする\n",
    " \n",
    " ②住所の情報が記載された `CSV` からジオコーディングを行う\n",
    " \n",
    " "
   ]
  },
  {
   "cell_type": "markdown",
   "metadata": {},
   "source": [
    "## ツールの実装について\n",
    "ここからは、`arcgis` モジュールをどのように使用して近隣検索ツールを実現しているかを紹介します。\n",
    "\n",
    "道路に関するデータは、ESRIジャパンで販売している [ArcGIS Geo Suite 道路網データ](https://www.esrij.com/products/data-content-geosuite-douromo/) を使用しています。"
   ]
  },
  {
   "cell_type": "code",
   "execution_count": 1,
   "metadata": {},
   "outputs": [],
   "source": [
    "import arcgis # arcgis api for python を使うため\n",
    "import pandas as pd # CSV からデータを取得するために使用\n",
    "import numpy as np # distance 関数を使うために使用\n",
    "from arcgis.gis import GIS # gis モジュールの使用\n",
    "from arcgis.geocoding import geocode # geocoding で住所を座標に変換するために使用\n",
    "from arcgis.geometry import Point, Polyline, Polygon, SpatialReference , distance, buffer # 主にジオメトリ変換に使うため\n",
    "\n",
    "gis = GIS()\n",
    "\n",
    "maps = gis.map(\"東京都千代田区麹町２丁目４−２０\" ,16)\n",
    "maps.basemap='streets-relief-vector' # basemap をベクター タイルに変更"
   ]
  },
  {
   "cell_type": "code",
   "execution_count": 2,
   "metadata": {},
   "outputs": [],
   "source": [
    "# 道路網データ(フィーチャクラス)を入れる\n",
    "\n",
    "sdf = pd.DataFrame.spatial.from_featureclass(\"<参照するファイル>\")"
   ]
  },
  {
   "cell_type": "markdown",
   "metadata": {},
   "source": [
    "## 近くにある道路の幅員を取得\n",
    "今回は、任意の地点から最も近い道路の幅員を取得するようにしています。上記で入力した道路データ全てから一番近い道路はどれか探そうとすると時間がかかってしまうため、任意の地点を中心として [`geometry`](https://developers.arcgis.com/python/api-reference/arcgis.geometry.html) モジュールの [`buffer()`](https://developers.arcgis.com/python/api-reference/arcgis.geometry.html#buffer) メソッドを使用し、 50m バッファーを作成し、その中に含まれる道路のポリラインを `geometry` モジュールの [`intersect()`](https://developers.arcgis.com/python/api-reference/arcgis.geometry.html?#arcgis.geometry.Geometry.intersect) メソッドで抽出し、その中から道路の幅員を取得するようにしています。この時、 50m 圏内に道路がなければ 50m を足して、再び同様の処理を行います。バッファー内に道路のポリラインが複数含まれていて、それぞれ異なる幅員となっている場合、`geometry` モジュールの [`distance()`](https://developers.arcgis.com/python/api-reference/arcgis.geometry.html?#arcgis.geometry.distance) メソッドを使用し、任意の地点に最も近い道路の幅員を参照しています。この時、浮動小数点以下の値でも比較するために Python の [`decimal`](https://docs.python.org/ja/3/library/decimal.html) モジュールを使用しています。\n",
    "\n",
    "これらによって得られた結果は、 [`widget`](https://developers.arcgis.com/python/api-reference/arcgis.widgets.html) モジュールの [`draw()`](https://developers.arcgis.com/python/api-reference/arcgis.widgets.html?#arcgis.widgets.MapView.draw) メソッドでマップに描画され、バッファーをクリックするとポップアップで道路の幅員が出力されます。それらの処理をここでは `nearby_road()` として関数化しています。"
   ]
  },
  {
   "cell_type": "code",
   "execution_count": 3,
   "metadata": {},
   "outputs": [],
   "source": [
    "# 近くの道路の幅を取得して、 buffer を描画する\n",
    "\n",
    "def nearby_road(point,gis_class,gs_road,map_name,place_name):\n",
    "    \"\"\"\n",
    "    point:近隣検索を行う物件などの ジオメトリ型の Point , \n",
    "    gis_class:gis モジュールの GIS クラスを指定.\n",
    "    road_data:geo suite 道路網データ, \n",
    "    map_name: gis.map() を実行している変数,\n",
    "    place_name: 場所の名前等\n",
    "    \"\"\"\n",
    "    widthid={'1': \"13m以上\", '2': \"5.5m以上13.0ｍ未満\", '3': \"3.0m以上5.5m未満\" , '4': \"3.0m未満\"} # 幅員の番号とその意味を示した dict 型配列\n",
    "\n",
    "    buffer_dist=50\n",
    "    while True: \n",
    "        point_buffer = buffer( geometries =[point],\n",
    "                              in_sr=3857, \n",
    "                              distances=buffer_dist, \n",
    "                              unit=\"9001\", \n",
    "                              out_sr=3857, \n",
    "                              buffer_sr=3857, \n",
    "                              geodesic=True,  \n",
    "                              gis=gis_class)\n",
    "        \n",
    "        # list 型なので Polygon に変換\n",
    "        point_buffer=Polygon(point_buffer[0]) \n",
    "        in_buff={}\n",
    "        for i,road in enumerate(road_data[\"SHAPE\"]) :\n",
    "            if point_buffer.intersect(second_geometry=road,dimension=2): # buffer 内の polyline が重なっているかを検索\n",
    "                in_buff[i]=point_buffer.intersect(second_geometry=road,dimension=2)\n",
    "        \n",
    "        # 50m の範囲内になかったら+50mして再計測\n",
    "        if in_buff=={}: \n",
    "            buffer_dist+=50\n",
    "            continue\n",
    "        else:\n",
    "            break\n",
    "            \n",
    "    width=[] # 道路の幅員番号を入れる箱\n",
    "    for keyid in in_buff:\n",
    "        width+=road_data[\"<フィールド名>\"][keyid]\n",
    "       \n",
    "    \n",
    "    # 以下すべての道路幅が同じなら終わり\n",
    "\n",
    "    if len(width)==width.count(width[0]):\n",
    "        road_width=width[0]\n",
    "    \n",
    "    else :\n",
    "       \n",
    "        # ここから下は道路幅が異なるなら実行　\n",
    "\n",
    "        from decimal import Decimal # 浮動小数点での比較を行えるようにする\n",
    "\n",
    "        for i,keyid in enumerate(in_buff): \n",
    "            \n",
    "            dist2road = distance(spatial_ref=3857, \n",
    "                         geometry1=in_buff[keyid], \n",
    "                         geometry2=point, \n",
    "                         distance_unit='9001', \n",
    "                         geodesic=True, \n",
    "                         gis=gis_class\n",
    "                     )\n",
    "            \n",
    "            if i==0 : \n",
    "                roadid=keyid \n",
    "                dist=Decimal(dist2road[\"distance\"]) \n",
    "            if 0<i and Decimal(dist2road[\"distance\"])<dis: # python は浮動小数点だと比較できないため decimal モジュールを使用\n",
    "                roadid=keyid\n",
    "                dist=Decimal(dist2road[\"distance\"])\n",
    "\n",
    "        \n",
    "        road_width=road_data[\"<フィールド名>\"][roadid] \n",
    "        \n",
    "    # マップ上に道路までの baffer を描画する\n",
    "    map_name.draw(point_buffer,\n",
    "                popup= {'title':\"最も近い道路の幅員\",'content': place_name+\"に最も近い道路は、幅員が\" + widthid[road_width] + \"である\"},\n",
    "                symbol = {\n",
    "                      \"type\" : \"esriSFS\",\n",
    "                      \"style\" : \"esriSFSDiagonalCross\",\n",
    "                      \"outline\" : \"blue\",\n",
    "                      \"color\": \"lightblue\"\n",
    "                    }\n",
    "                 ) \n",
    "    \n",
    "    return widthid[road_width] # 道路幅のIDから幅を取得できるようにする"
   ]
  },
  {
   "cell_type": "markdown",
   "metadata": {},
   "source": [
    "## POI を指定した近隣検索\n",
    "[`geocording`](https://developers.arcgis.com/python/api-reference/arcgis.geocoding.html) モジュールの [`geocode()`](https://developers.arcgis.com/python/api-reference/arcgis.geocoding.html?#arcgis.geocoding.geocode) メソッドを使用して、任意の地点から 500m 圏内に特定の [`POI`](https://www.esrij.com/gis-guide/gis-other/point-of-interest/) があるかどうかを判定します。`geocode()` メソッドでは、建物の種別を指定すると任意の地点から近隣検索を行い、その建物の種別に関連する場所の情報を返します。ただし、その距離は指定できないため、任意の地点から `buffer()` メソッドで 500m バッファーを作成し、その中に目標物が存在しているかを `intersect()` で取得します。これらの処理をここでは `extent_500()` として関数化しています。"
   ]
  },
  {
   "cell_type": "code",
   "execution_count": 45,
   "metadata": {},
   "outputs": [],
   "source": [
    "# 500m圏内で近隣検索\n",
    "\n",
    "def extent_500(point,poi,gis_class,place_name,map_name): \n",
    "    \"\"\" \n",
    "    point:調査地点, \n",
    "    poi: POI として設定した施設種別, \n",
    "    gis_class: gis モジュールの GIS クラスを指定,\n",
    "    place_name:場所の名前, \n",
    "    map_name: gis.map() の変数\n",
    "    \"\"\"\n",
    "   \n",
    "    poi_search = geocode(poi, location=point, out_sr=3857) \n",
    "    \n",
    "    # 500mバッファーの作成\n",
    "    point_buffer=buffer( geometries = [point], \n",
    "                            in_sr=3857, \n",
    "                            distances=500, \n",
    "                            unit=\"9001\", \n",
    "                            out_sr=3857, \n",
    "                            buffer_sr=3857, \n",
    "                            geodesic=True, \n",
    "                            gis=gis_class)\n",
    "    point_buffer=Polygon(point_buffer[0])\n",
    "    \n",
    "    map_name.draw(point_buffer) \n",
    "    \n",
    "    poi_name=[]\n",
    "    for address in poi_search:\n",
    "        to_point=Point({'spatialReference' :{'latestWkid': 3857, 'wkid': 102100},'x': address['location']['x'] ,'y':  address['location']['y']})\n",
    "        \n",
    "        # buffer の x 属性に値がないとき\n",
    "        if point_buffer.intersect(second_geometry=to_point,dimension=1).x!=\"NaN\": \n",
    "            \n",
    "            print(address['attributes']['Match_addr'])\n",
    "            map_name.draw(to_point,\n",
    "                      popup= {'title':address['attributes']['Match_addr'],\n",
    "                              'content': \"建物種別:\"+ address['attributes']['Type'] + \"<br>どこから500m圏内:\" + place_name},\n",
    "                              symbol = {\"angle\":0,\"xoffset\":0,\"yoffset\":0,\"type\":\"esriPMS\",\"url\":\"http://static.arcgis.com/images/Symbols/Cartographic/esriCartographyMarker_70_Yellow.png\",\"contentType\":\"image/png\",\"width\":14,\"height\":14}\n",
    "                         )\n",
    "            poi_name.append(address['attributes']['Match_addr'])\n",
    "    \n",
    "    return poi_name # POIの目標物の名前を返す"
   ]
  },
  {
   "cell_type": "markdown",
   "metadata": {},
   "source": [
    "## 実行結果を CSV に入力\n",
    "実行結果を [`pandas`](https://pandas.pydata.org/pandas-docs/stable/index.html) の [`to_csv()`](https://pandas.pydata.org/pandas-docs/stable/reference/api/pandas.DataFrame.to_csv.html?#pandas.DataFrame.to_csv) メソッドを使用して `CSV` に書き込みます。この時、入力する値は辞書型から取得していくようにしています。また、新たにファイルを作成する際には `addFlag` パラメーターに `True` を、既存のファイルに追加する際には `False` を指定します。新規作成の場合、辞書型のデータを一度 `DataFrame` に変換した後、 `CSV` に書き込んでいます。\n",
    "\n",
    "なお、今回はジオコーディングを実行した値は保存しません。ジオコーディングした結果は、 `geocode()` メソッドの `forstrage` パラメーターを `True` にすることでのみ結果の保存を許されています。詳しくは[こちらのドキュメント](https://github.com/EsriJapan/arcgis-python-api/blob/master/guide/09-finding-places-with-geocoding/understanding-the-geocode-function_ja.ipynb)をご確認ください。"
   ]
  },
  {
   "cell_type": "code",
   "execution_count": 5,
   "metadata": {},
   "outputs": [],
   "source": [
    "# CSVに入力\n",
    "\n",
    "def make_csv(csv,dic,poi_name,addFlag): \n",
    "    \"\"\"\n",
    "    csv:書き込む csv ファイルの指定 \n",
    "    dic:結果を辞書型で保存したもの \n",
    "    poiname: POI の施設種別 \n",
    "    addFlag: False なら新規作成(上書き)\n",
    "    \"\"\"\n",
    "    # 追加か新規作成かで分岐\n",
    "    if(addFlag):\n",
    "        # excelでの標準文字エンコードがshift_jisであるため、指定。\n",
    "        dfs = pd.read_csv(csv, index_col=False, encoding='shift_jis') \n",
    "        dfs[poi_name] =[dic[i][poi] for i in range(len(dic)) if i<len(dic)] \n",
    "        dfs.to_csv(csv, encoding='shift_jis', index=False) \n",
    "    else:\n",
    "        df = pd.DataFrame.from_dict(dic, orient='index') # orient はindexの方向で保存\n",
    "        df.to_csv(csv, encoding='shift_jis', index=False) \n"
   ]
  },
  {
   "cell_type": "markdown",
   "metadata": {},
   "source": [
    "## onclick() による近隣検索\n",
    "`widgets` モジュールの [`onclick()`](https://developers.arcgis.com/python/api-reference/arcgis.widgets.html?highlight=on_click#arcgis.widgets.MapView.on_click) メソッドからコールバック関数として返される座標を使用し、上記した関数と組み合わせた `nearby_info()` を関数化し、道路の幅員と指定した建物の近隣検索を行います。その結果は、`draw()` メソッドでマップに描画されます。また、近隣検索によって表示される建物に関してはその施設の名前が表示されるようになっています。\n",
    "マップへの追加が終わったら次のセルで `onclick()` メソッドの `remove` パラメーターを `True` にし、同時に `make_csv()` を実行しています。 "
   ]
  },
  {
   "cell_type": "code",
   "execution_count": 42,
   "metadata": {},
   "outputs": [
    {
     "data": {
      "application/vnd.jupyter.widget-view+json": {
       "model_id": "29d8d8131df04f9eaf890826ff1b52e6",
       "version_major": 2,
       "version_minor": 0
      },
      "text/plain": [
       "MapView(jupyter_target='notebook', layout=Layout(height='400px', width='100%'), ready=True)"
      ]
     },
     "metadata": {},
     "output_type": "display_data"
    },
    {
     "data": {
      "text/html": [
       "<div class=\"map-static-img-preview-1fb57097-bbad-42e9-a8b7-f0d4b3914dfc\"><img src=\"\"></img></div>"
      ],
      "text/plain": [
       "<IPython.core.display.HTML object>"
      ]
     },
     "metadata": {},
     "output_type": "display_data"
    },
    {
     "data": {
      "text/html": [
       "<div class=\"map-html-embed-preview-1fb57097-bbad-42e9-a8b7-f0d4b3914dfc\"></div>"
      ],
      "text/plain": [
       "<IPython.core.display.HTML object>"
      ]
     },
     "metadata": {},
     "output_type": "display_data"
    }
   ],
   "source": [
    "# クリックした地点の周辺の情報を取得\n",
    "\n",
    "results={}\n",
    "i=0\n",
    "def nearby_info(m, g):\n",
    "    global poi\n",
    "    poi=\"hospital\"\n",
    "    place_name=\"物件A\" #変数名直す\n",
    "    try:\n",
    "        points = Point({'spatialReference' :{'latestWkid': g['spatialReference']['latestWkid'], 'wkid': g['spatialReference']['wkid']},'x': g['x'] ,'y':  g['y']})\n",
    "        near_road=nearby_road(points,gis,sdf,maps,place_name)\n",
    "        within=extent_500(points,poi,gis,place_name,maps) #変数名\n",
    "        m.draw(g,\n",
    "              symbol={\"angle\":0,\"xoffset\":2,\"yoffset\":8,\"type\":\"esriPMS\",\"url\":\"http://static.arcgis.com/images/Symbols/Basic/LightBlueShinyPin.png\",\"contentType\":\"image/png\",\"width\":14,\"height\":14})\n",
    "        print(exfiv) # 500m 圏内にある目標物の名前を表示\n",
    "        # symbol は,https://esri.github.io/arcgis-python-api/tools/symbol.html で作成可能. \n",
    "        if results!={}:\n",
    "            i=len(results)            \n",
    "            results[i]={\"物件名\": place_name ,\"lat\": g[\"x\"],\"lng\": g[\"y\"],\"幅員\":near_road, poi :len(within)}\n",
    "           \n",
    "        else:\n",
    "            i=0            \n",
    "            results[i]={\"物件名\": place_name ,\"lat\": g[\"x\"],\"lng\": g[\"y\"],\"幅員\":near_road, poi :len(within)}\n",
    "            \n",
    "        \n",
    "    except:\n",
    "        print(\"位置情報取得失敗\") # エラー時\n",
    "\n",
    "maps.on_click(nearby_info)\n",
    "\n",
    "\n",
    "maps"
   ]
  },
  {
   "cell_type": "code",
   "execution_count": 9,
   "metadata": {},
   "outputs": [],
   "source": [
    "# コールバック関数の削除。これでマップへの追加をやめる。\n",
    "\n",
    "maps.on_click(nearby_info,True)\n",
    "\n",
    "onclick_file='./csv_folder/test_click.csv'\n",
    "make_csv(onclick_file,results,poi,False) # 新規作成になるため False で指定"
   ]
  },
  {
   "cell_type": "markdown",
   "metadata": {},
   "source": [
    "![on_click demo](./image/nearby.gif)"
   ]
  },
  {
   "cell_type": "code",
   "execution_count": 27,
   "metadata": {},
   "outputs": [
    {
     "data": {
      "text/html": [
       "<div>\n",
       "<style scoped>\n",
       "    .dataframe tbody tr th:only-of-type {\n",
       "        vertical-align: middle;\n",
       "    }\n",
       "\n",
       "    .dataframe tbody tr th {\n",
       "        vertical-align: top;\n",
       "    }\n",
       "\n",
       "    .dataframe thead th {\n",
       "        text-align: right;\n",
       "    }\n",
       "</style>\n",
       "<table border=\"1\" class=\"dataframe\">\n",
       "  <thead>\n",
       "    <tr style=\"text-align: right;\">\n",
       "      <th></th>\n",
       "      <th>物件名</th>\n",
       "      <th>lat</th>\n",
       "      <th>lng</th>\n",
       "      <th>幅員</th>\n",
       "      <th>hospital</th>\n",
       "      <th>park</th>\n",
       "    </tr>\n",
       "  </thead>\n",
       "  <tbody>\n",
       "    <tr>\n",
       "      <th>0</th>\n",
       "      <td>物件A</td>\n",
       "      <td>15555755.96</td>\n",
       "      <td>4257287.26</td>\n",
       "      <td>5.5m以上13.0ｍ未満</td>\n",
       "      <td>3</td>\n",
       "      <td>2</td>\n",
       "    </tr>\n",
       "  </tbody>\n",
       "</table>\n",
       "</div>"
      ],
      "text/plain": [
       "   物件名          lat         lng             幅員  hospital  park\n",
       "0  物件A  15555755.96  4257287.26  5.5m以上13.0ｍ未満         3     2"
      ]
     },
     "execution_count": 27,
     "metadata": {},
     "output_type": "execute_result"
    }
   ],
   "source": [
    "# nearby_info() で作成したcsvを読みとり\n",
    "    \n",
    "onclick_csv=pd.read_csv(onclick_file,encoding=\"shift_jis\")\n",
    "onclick_csv"
   ]
  },
  {
   "cell_type": "markdown",
   "metadata": {},
   "source": [
    "## 近隣検索の結果を CSV に追加\n",
    "`nearby_info()` による近隣検索の結果に他の `POI` による検索結果を追加するときに用います。これには `pandas` の [`read_csv()`](https://pandas.pydata.org/pandas-docs/stable/reference/api/pandas.read_csv.html) と近隣検索の関数 `extent_500()` を利用しています。"
   ]
  },
  {
   "cell_type": "code",
   "execution_count": 46,
   "metadata": {},
   "outputs": [
    {
     "name": "stdout",
     "output_type": "stream",
     "text": [
      "清水谷公園\n",
      "千鳥ヶ淵公園\n"
     ]
    }
   ],
   "source": [
    "# nearby_info() で作ったファイルに追加する\n",
    "\n",
    "poi=\"park\"\n",
    "result={}\n",
    "for i,latlng in enumerate(onclick_csv.values): \n",
    "    csv_point=Point({'spatialReference' :{'latestWkid': 3857, 'wkid': 102100},'x': latlng[1] ,'y':  latlng[2]})\n",
    "    within=extent_500(csv_point,poi,gis,latlng[0],maps) \n",
    "    result[i]={\"物件名\": latlng[0], \"lat\": latlng[1] , \"lng\": latlng[2], \"幅員\":latlng[3], poi :len(within)}\n",
    "    \n",
    "make_csv(onclick_file,result,poi,True) # POI を検索した結果を追加するだけなのでここは True で固定"
   ]
  },
  {
   "cell_type": "markdown",
   "metadata": {},
   "source": [
    "![add_park](./image/add_search_park.png)"
   ]
  },
  {
   "cell_type": "markdown",
   "metadata": {},
   "source": [
    "## 住所カラムのある CSV を読み取って近隣検索\n",
    "以下では、`pandas` の [`read_csv()`](https://pandas.pydata.org/pandas-docs/stable/reference/api/pandas.read_csv.html) を使用して、 `CSV` を読み取ります。その中から住所に関するカラムを取得し、`geocode()` メソッドでジオコーディングを実行しています。ジオコーディングの結果の値を使って `extent_500()` で近隣検索と `nearby_road()` で一番近い道路の幅員を取得します。また、それらの結果を別の `CSV` に書き込みます。"
   ]
  },
  {
   "cell_type": "code",
   "execution_count": 14,
   "metadata": {},
   "outputs": [
    {
     "data": {
      "text/html": [
       "<div>\n",
       "<style scoped>\n",
       "    .dataframe tbody tr th:only-of-type {\n",
       "        vertical-align: middle;\n",
       "    }\n",
       "\n",
       "    .dataframe tbody tr th {\n",
       "        vertical-align: top;\n",
       "    }\n",
       "\n",
       "    .dataframe thead th {\n",
       "        text-align: right;\n",
       "    }\n",
       "</style>\n",
       "<table border=\"1\" class=\"dataframe\">\n",
       "  <thead>\n",
       "    <tr style=\"text-align: right;\">\n",
       "      <th></th>\n",
       "      <th>住所</th>\n",
       "      <th>階数</th>\n",
       "    </tr>\n",
       "  </thead>\n",
       "  <tbody>\n",
       "    <tr>\n",
       "      <th>0</th>\n",
       "      <td>東京都千代田区平河町2-7-1</td>\n",
       "      <td>7階建て</td>\n",
       "    </tr>\n",
       "    <tr>\n",
       "      <th>1</th>\n",
       "      <td>東京都千代田区千代田１-１</td>\n",
       "      <td>4階建て</td>\n",
       "    </tr>\n",
       "    <tr>\n",
       "      <th>2</th>\n",
       "      <td>東京都千代田区北の丸公園３-１</td>\n",
       "      <td>2階建て</td>\n",
       "    </tr>\n",
       "  </tbody>\n",
       "</table>\n",
       "</div>"
      ],
      "text/plain": [
       "                住所    階数\n",
       "0  東京都千代田区平河町2-7-1  7階建て\n",
       "1    東京都千代田区千代田１-１  4階建て\n",
       "2  東京都千代田区北の丸公園３-１  2階建て"
      ]
     },
     "execution_count": 14,
     "metadata": {},
     "output_type": "execute_result"
    }
   ],
   "source": [
    "# 住所に関する情報が書かれている CSV を取得\n",
    "\n",
    "df_csv = pd.read_csv('./tokyo_sample.csv',encoding=\"shift_jis\")\n",
    "df_csv"
   ]
  },
  {
   "cell_type": "code",
   "execution_count": 51,
   "metadata": {},
   "outputs": [
    {
     "name": "stdout",
     "output_type": "stream",
     "text": [
      "清水谷公園\n",
      "['清水谷公園']\n",
      "皇居外苑\n",
      "['皇居外苑']\n",
      "北の丸公園\n",
      "二の丸庭園\n",
      "['北の丸公園', '二の丸庭園']\n"
     ]
    }
   ],
   "source": [
    "# 住所情報のある CSV から近隣検索\n",
    "\n",
    "result={}\n",
    "poi=\"park\"\n",
    "\n",
    "for i,address in enumerate(df_csv['住所']):\n",
    "    # csv の一つのカラムからジオコード\n",
    "    csv_geocode=geocode(address, out_sr=3857)[0] \n",
    "    csv_point=Point({'spatialReference' :{'latestWkid': 3857, 'wkid': 102100},'x': csv_geocode['location']['x'] ,'y':  csv_geocode['location']['y']})\n",
    "    within=extent_500(csv_point,poi,gis,address,maps) \n",
    "    print(within)\n",
    "    road_width=nearby_road(csv_point,gis,sdf,maps,address)\n",
    "    maps.draw(csv_point,symbol={\"angle\":0,\"xoffset\":2,\"yoffset\":8,\"type\":\"esriPMS\",\"url\":\"http://static.arcgis.com/images/Symbols/Basic/LightBlueShinyPin.png\",\"contentType\":\"image/png\",\"width\":14,\"height\":14})    \n",
    "    # ジオコードの結果を保存するには forstrage が必要なので、何件あったかだけ表示\n",
    "    result[i]={\"住所\": address,\"幅員\":road_width, poi :len(within)} \n",
    "        \n",
    "make_csv(testfile,result,poi,False)"
   ]
  },
  {
   "cell_type": "markdown",
   "metadata": {},
   "source": [
    "![csv2geocode](./image/csv_search_park.png)"
   ]
  },
  {
   "cell_type": "code",
   "execution_count": 52,
   "metadata": {},
   "outputs": [
    {
     "data": {
      "text/html": [
       "<div>\n",
       "<style scoped>\n",
       "    .dataframe tbody tr th:only-of-type {\n",
       "        vertical-align: middle;\n",
       "    }\n",
       "\n",
       "    .dataframe tbody tr th {\n",
       "        vertical-align: top;\n",
       "    }\n",
       "\n",
       "    .dataframe thead th {\n",
       "        text-align: right;\n",
       "    }\n",
       "</style>\n",
       "<table border=\"1\" class=\"dataframe\">\n",
       "  <thead>\n",
       "    <tr style=\"text-align: right;\">\n",
       "      <th></th>\n",
       "      <th>住所</th>\n",
       "      <th>幅員</th>\n",
       "      <th>park</th>\n",
       "    </tr>\n",
       "  </thead>\n",
       "  <tbody>\n",
       "    <tr>\n",
       "      <th>0</th>\n",
       "      <td>東京都千代田区平河町2-7-1</td>\n",
       "      <td>5.5m以上13.0ｍ未満</td>\n",
       "      <td>1</td>\n",
       "    </tr>\n",
       "    <tr>\n",
       "      <th>1</th>\n",
       "      <td>東京都千代田区千代田１-１</td>\n",
       "      <td>5.5m以上13.0ｍ未満</td>\n",
       "      <td>1</td>\n",
       "    </tr>\n",
       "    <tr>\n",
       "      <th>2</th>\n",
       "      <td>東京都千代田区北の丸公園３-１</td>\n",
       "      <td>3.0m以上5.5m未満</td>\n",
       "      <td>2</td>\n",
       "    </tr>\n",
       "  </tbody>\n",
       "</table>\n",
       "</div>"
      ],
      "text/plain": [
       "                住所             幅員  park\n",
       "0  東京都千代田区平河町2-7-1  5.5m以上13.0ｍ未満     1\n",
       "1    東京都千代田区千代田１-１  5.5m以上13.0ｍ未満     1\n",
       "2  東京都千代田区北の丸公園３-１   3.0m以上5.5m未満     2"
      ]
     },
     "execution_count": 52,
     "metadata": {},
     "output_type": "execute_result"
    }
   ],
   "source": [
    "# 出力先の csv を確認する\n",
    "testfile='./csv_folder/tokyo_test.csv'\n",
    "\n",
    "test = pd.read_csv(testfile,encoding=\"shift_jis\")\n",
    "test.head()"
   ]
  }
 ],
 "metadata": {
  "kernelspec": {
   "display_name": "Python 3",
   "language": "python",
   "name": "python3"
  },
  "language_info": {
   "codemirror_mode": {
    "name": "ipython",
    "version": 3
   },
   "file_extension": ".py",
   "mimetype": "text/x-python",
   "name": "python",
   "nbconvert_exporter": "python",
   "pygments_lexer": "ipython3",
   "version": "3.7.10"
  }
 },
 "nbformat": 4,
 "nbformat_minor": 4
}
